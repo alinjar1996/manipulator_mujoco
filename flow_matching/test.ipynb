{
 "cells": [
  {
   "cell_type": "code",
   "execution_count": 57,
   "id": "2e699918",
   "metadata": {},
   "outputs": [],
   "source": [
    "import numpy as np\n",
    "import torch as th\n",
    "from tqdm import tqdm,trange    \n",
    "from torch import Tensor\n",
    "from torch.utils.data import Dataset, DataLoader, random_split\n",
    "\n",
    "import matplotlib.pyplot as plt\n",
    "# from torch.utils.tensorboard import SummaryWriter\n",
    "\n",
    "import open3d as o3d\n"
   ]
  },
  {
   "cell_type": "code",
   "execution_count": 58,
   "id": "b9c83962",
   "metadata": {},
   "outputs": [],
   "source": [
    "\n",
    "import torch\n",
    "import torch.nn as nn\n",
    "import torch.nn.functional as F\n",
    "from torch import Tensor"
   ]
  },
  {
   "cell_type": "code",
   "execution_count": null,
   "id": "66d0ca8c",
   "metadata": {},
   "outputs": [
    {
     "name": "stdout",
     "output_type": "stream",
     "text": [
      "torch.Size([1, 10, 100])\n"
     ]
    }
   ],
   "source": [
    "net1 = torch.nn.Sequential(torch.nn.Conv1d(in_channels=5, out_channels=10, kernel_size=5, stride = 1, padding = 2),\n",
    "                           torch.nn.BatchNorm1d(10),\n",
    "                           torch.nn.LeakyReLU())\n",
    "\n",
    "batch_size = 1\n",
    "input_layers = 5\n",
    "input_length = 100\n",
    "x = torch.randn(batch_size, input_layers, input_length)\n",
    "\n"
   ]
  },
  {
   "cell_type": "code",
   "execution_count": null,
   "id": "64a15c6d",
   "metadata": {},
   "outputs": [],
   "source": [
    "#print(net1)\n",
    "net2 = torch.nn.Sequential(torch.nn.Conv1d(in_channels=output_layers, out_channels = 2*output_layers, \n",
    "                                           kernel_size=5, stride = 1, padding = 2),\n",
    "                                           torch.nn.BatchNorm1d(2*output_layers),\n",
    "                                           torch.nn.LeakyReLU())"
   ]
  },
  {
   "cell_type": "code",
   "execution_count": null,
   "id": "dac49e08",
   "metadata": {},
   "outputs": [],
   "source": [
    "\n",
    "\n",
    "\n"
   ]
  },
  {
   "cell_type": "code",
   "execution_count": null,
   "id": "38c81a79",
   "metadata": {},
   "outputs": [
    {
     "name": "stdout",
     "output_type": "stream",
     "text": [
      "torch.Size([1, 20, 100])\n"
     ]
    }
   ],
   "source": [
    "\n",
    "\n",
    "out_ = net2(net1(x))\n",
    "print(out_.shape)\n"
   ]
  }
 ],
 "metadata": {
  "kernelspec": {
   "display_name": "custom_env",
   "language": "python",
   "name": "python3"
  },
  "language_info": {
   "codemirror_mode": {
    "name": "ipython",
    "version": 3
   },
   "file_extension": ".py",
   "mimetype": "text/x-python",
   "name": "python",
   "nbconvert_exporter": "python",
   "pygments_lexer": "ipython3",
   "version": "3.12.3"
  }
 },
 "nbformat": 4,
 "nbformat_minor": 5
}
