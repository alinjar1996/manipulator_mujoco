{
 "cells": [
  {
   "cell_type": "code",
   "execution_count": 45,
   "metadata": {},
   "outputs": [
    {
     "name": "stdout",
     "output_type": "stream",
     "text": [
      "/home/alinjar/manipulator/manipulator_mujoco/flow_matching\n"
     ]
    }
   ],
   "source": [
    "import numpy as np\n",
    "import torch \n",
    "from tqdm import tqdm,trange    \n",
    "from torch import Tensor\n",
    "from torch.utils.data import Dataset, DataLoader, random_split\n",
    "\n",
    "import matplotlib.pyplot as plt\n",
    "# from torch.utils.tensorboard import SummaryWriter\n",
    "\n",
    "import os\n",
    "\n",
    "print(os.getcwd())  \n",
    "\n"
   ]
  },
  {
   "cell_type": "code",
   "execution_count": 46,
   "metadata": {},
   "outputs": [],
   "source": [
    "from flow_model_manipulator import Flow\n",
    "import open3d as o3d\n",
    "\n"
   ]
  },
  {
   "cell_type": "code",
   "execution_count": 47,
   "metadata": {},
   "outputs": [],
   "source": [
    "\n",
    "\n",
    "torch.set_float32_matmul_precision('high')\n",
    "\n",
    "# writer = SummaryWriter(\"./logs\")\n",
    "test = 'manipulator'"
   ]
  },
  {
   "cell_type": "code",
   "execution_count": 48,
   "metadata": {},
   "outputs": [],
   "source": [
    "BATCH_SIZE      = 500\n",
    "LEARNING_RATE   = 1e-3\n",
    "SEED            = 0\n",
    "DEVICE          = 'cuda'      \n",
    "NUM_EPOCH       = 2000"
   ]
  },
  {
   "cell_type": "code",
   "execution_count": 49,
   "metadata": {},
   "outputs": [],
   "source": [
    "torch.manual_seed(seed=SEED)\n",
    "torch.cuda.manual_seed(seed=SEED)"
   ]
  },
  {
   "cell_type": "code",
   "execution_count": null,
   "metadata": {},
   "outputs": [],
   "source": [
    "class TrajDataset(Dataset):\n",
    "    def __init__(self, theta_init_data, thetadot_init_data, target_pos_data, target_quat_data, index_data):\n",
    "        \n",
    "        # goal\n",
    "        self.theta_init = theta_init_data\n",
    "        self.thetadot_init = thetadot_init_data\n",
    "        self.target_pos = target_pos_data\n",
    "        self.target_quat = target_quat_data\n",
    "\n",
    "\n",
    "        self.index = index_data\n",
    "        \n",
    "    \n",
    "    def __len__(self):\n",
    "        return len(self.theta_init)    \n",
    "            \n",
    "    def __getitem__(self, idx):\n",
    "\n",
    "        theta_init = self.theta_init[idx]\n",
    "        thetadot_init = self.thetadot_init[idx]\n",
    "        target_pos = self.target_pos[idx]\n",
    "        target_quat = self.target_quat[idx]\n",
    "        index = self.index[idx]\n",
    "                 \n",
    "        return torch.tensor(theta_init).float(), torch.tensor(thetadot_init).float(), torch.tensor(target_pos).float(), \\\n",
    "            torch.tensor(target_quat).float(), index"
   ]
  },
  {
   "cell_type": "code",
   "execution_count": 51,
   "metadata": {},
   "outputs": [
    {
     "name": "stdout",
     "output_type": "stream",
     "text": [
      "/home/alinjar/manipulator/manipulator_mujoco\n"
     ]
    }
   ],
   "source": [
    "import os\n",
    "import numpy as np\n",
    "\n",
    "# One step behind the current working directory\n",
    "parent_dir = os.path.abspath(os.path.join(os.getcwd(), os.pardir))\n",
    "\n",
    "print(parent_dir)\n"
   ]
  },
  {
   "cell_type": "code",
   "execution_count": 52,
   "metadata": {},
   "outputs": [
    {
     "name": "stdout",
     "output_type": "stream",
     "text": [
      "/home/alinjar/manipulator/manipulator_mujoco/custom_data_target_0_inference_False\n"
     ]
    }
   ],
   "source": [
    "\n",
    "\n",
    "# Build relative paths from parent directory\n",
    "data_dir = os.path.join(parent_dir, \"custom_data_target_0_inference_False\")\n",
    "pcd_dir = os.path.join(parent_dir, \"pcd_data\")\n",
    "\n",
    "print(data_dir)\n"
   ]
  },
  {
   "cell_type": "code",
   "execution_count": 53,
   "metadata": {},
   "outputs": [
    {
     "name": "stdout",
     "output_type": "stream",
     "text": [
      "(2638, 6)\n",
      "(2638, 6)\n",
      "(2, 3)\n",
      "(2, 4)\n"
     ]
    }
   ],
   "source": [
    "# Load the data\n",
    "\n",
    "theta_init_data = np.loadtxt(os.path.join(data_dir, \"theta.csv\"), delimiter=\",\")\n",
    "thetadot_init_data = np.loadtxt(os.path.join(data_dir, \"thetadot.csv\"), delimiter=\",\")\n",
    "target_pos_data = np.loadtxt(os.path.join(data_dir, \"target_positions.csv\"), delimiter=\",\")\n",
    "target_quat_data = np.loadtxt(os.path.join(data_dir, \"target_quaternions.csv\"), delimiter=\",\")\n",
    "\n",
    "index_data = np.arange(1, len(theta_init_data) + 1)\n",
    "\n",
    "\n",
    "pcd_path = os.path.join(pcd_dir, \"output_scene_without_robot_unpacked_rgb.pcd\")\n",
    "pcd = o3d.io.read_point_cloud(pcd_path)\n",
    "\n",
    "points = np.asarray(pcd.points)       # XYZ points\n",
    "colors = np.asarray(pcd.colors)       # RGB (if present)\n",
    "\n",
    "# print(points.shape)\n",
    "# print(colors.shape)\n",
    "\n",
    "print(theta_init_data.shape)\n",
    "print(thetadot_init_data.shape)\n",
    "print(target_pos_data.shape)\n",
    "print(target_quat_data.shape)\n"
   ]
  },
  {
   "cell_type": "code",
   "execution_count": 54,
   "metadata": {},
   "outputs": [],
   "source": [
    "theta_init_mean, theta_init_std = torch.tensor(theta_init_data.mean()).to(DEVICE), torch.tensor(theta_init_data.std()).to(DEVICE)\n",
    "thetadot_init_mean, thetadot_init_std = torch.tensor(thetadot_init_data.mean()).to(DEVICE), torch.tensor(thetadot_init_data.std()).to(DEVICE)\n",
    "target_pos_mean, target_pos_std = torch.tensor(target_pos_data.mean()).to(DEVICE), torch.tensor(target_pos_data.std()).to(DEVICE)\n",
    "target_quat_mean, target_quat_std = torch.tensor(target_quat_data.mean()).to(DEVICE), torch.tensor(target_quat_data.std()).to(DEVICE)\n"
   ]
  },
  {
   "cell_type": "code",
   "execution_count": 55,
   "metadata": {},
   "outputs": [
    {
     "name": "stdout",
     "output_type": "stream",
     "text": [
      "2638\n"
     ]
    }
   ],
   "source": [
    "dataset = TrajDataset(theta_init_data, thetadot_init_data, target_pos_data, target_quat_data, index_data)\n",
    "print(len(dataset))\n",
    "\n",
    "train_size = int(0.9 * len(dataset))  \n",
    "test_size = len(dataset) - train_size  \n",
    "\n",
    "# Create a generator with a fixed seed\n",
    "generator = torch.Generator().manual_seed(0)\n",
    "\n",
    "train_dataset, test_dataset = random_split(dataset, [train_size, test_size], generator=generator)\n",
    "test_loader = DataLoader(test_dataset, batch_size=BATCH_SIZE, shuffle=True, drop_last=False)\n",
    "train_loader = DataLoader(train_dataset, batch_size=BATCH_SIZE, shuffle=True, drop_last=False)\n",
    "\n",
    "out_chan = 512\n",
    "\n",
    "flow = Flow(out_chan,theta_init_mean,theta_init_std, thetadot_init_mean, theta_init_std, target_pos_mean, target_pos_std,\n",
    "            target_quat_mean, target_quat_std).cuda()\n",
    "\n",
    "loss_fn = torch.nn.MSELoss()\n",
    "optimizer = torch.optim.AdamW(flow.parameters(), lr=LEARNING_RATE)"
   ]
  },
  {
   "cell_type": "code",
   "execution_count": 56,
   "metadata": {},
   "outputs": [
    {
     "name": "stderr",
     "output_type": "stream",
     "text": [
      "  0%|          | 0/2000 [00:00<?, ?it/s]\n"
     ]
    },
    {
     "ename": "IndexError",
     "evalue": "index 1769 is out of bounds for axis 0 with size 2",
     "output_type": "error",
     "traceback": [
      "\u001b[31m---------------------------------------------------------------------------\u001b[39m",
      "\u001b[31mIndexError\u001b[39m                                Traceback (most recent call last)",
      "\u001b[36mCell\u001b[39m\u001b[36m \u001b[39m\u001b[32mIn[56]\u001b[39m\u001b[32m, line 11\u001b[39m\n\u001b[32m      8\u001b[39m \u001b[38;5;28;01mfor\u001b[39;00m epoch \u001b[38;5;129;01min\u001b[39;00m trange(NUM_EPOCH):\n\u001b[32m      9\u001b[39m \tlosses = []\n\u001b[32m---> \u001b[39m\u001b[32m11\u001b[39m \u001b[43m\t\u001b[49m\u001b[38;5;28;43;01mfor\u001b[39;49;00m\u001b[43m \u001b[49m\u001b[43m(\u001b[49m\u001b[43mtheta_init\u001b[49m\u001b[43m,\u001b[49m\u001b[43mthetadot_init\u001b[49m\u001b[43m,\u001b[49m\u001b[43m \u001b[49m\u001b[43mtarget_pos\u001b[49m\u001b[43m,\u001b[49m\u001b[43m \u001b[49m\u001b[43mtarget_quat\u001b[49m\u001b[43m,\u001b[49m\u001b[43m \u001b[49m\u001b[43mindex\u001b[49m\u001b[43m)\u001b[49m\u001b[43m \u001b[49m\u001b[38;5;129;43;01min\u001b[39;49;00m\u001b[43m \u001b[49m\u001b[43mtrain_loader\u001b[49m\u001b[43m:\u001b[49m\n\u001b[32m     14\u001b[39m \u001b[43m\t\t\u001b[49m\u001b[43mtheta_init\u001b[49m\u001b[43m \u001b[49m\u001b[43m=\u001b[49m\u001b[43m \u001b[49m\u001b[43mtheta_init\u001b[49m\u001b[43m.\u001b[49m\u001b[43mto\u001b[49m\u001b[43m(\u001b[49m\u001b[43mDEVICE\u001b[49m\u001b[43m)\u001b[49m\n\u001b[32m     15\u001b[39m \u001b[43m\t\t\u001b[49m\u001b[43mthetadot_init\u001b[49m\u001b[43m \u001b[49m\u001b[43m=\u001b[49m\u001b[43m \u001b[49m\u001b[43mthetadot_init\u001b[49m\u001b[43m.\u001b[49m\u001b[43mto\u001b[49m\u001b[43m(\u001b[49m\u001b[43mDEVICE\u001b[49m\u001b[43m)\u001b[49m\n",
      "\u001b[36mFile \u001b[39m\u001b[32m~/custom_env/lib/python3.12/site-packages/torch/utils/data/dataloader.py:701\u001b[39m, in \u001b[36m_BaseDataLoaderIter.__next__\u001b[39m\u001b[34m(self)\u001b[39m\n\u001b[32m    698\u001b[39m \u001b[38;5;28;01mif\u001b[39;00m \u001b[38;5;28mself\u001b[39m._sampler_iter \u001b[38;5;129;01mis\u001b[39;00m \u001b[38;5;28;01mNone\u001b[39;00m:\n\u001b[32m    699\u001b[39m     \u001b[38;5;66;03m# TODO(https://github.com/pytorch/pytorch/issues/76750)\u001b[39;00m\n\u001b[32m    700\u001b[39m     \u001b[38;5;28mself\u001b[39m._reset()  \u001b[38;5;66;03m# type: ignore[call-arg]\u001b[39;00m\n\u001b[32m--> \u001b[39m\u001b[32m701\u001b[39m data = \u001b[38;5;28;43mself\u001b[39;49m\u001b[43m.\u001b[49m\u001b[43m_next_data\u001b[49m\u001b[43m(\u001b[49m\u001b[43m)\u001b[49m\n\u001b[32m    702\u001b[39m \u001b[38;5;28mself\u001b[39m._num_yielded += \u001b[32m1\u001b[39m\n\u001b[32m    703\u001b[39m \u001b[38;5;28;01mif\u001b[39;00m (\n\u001b[32m    704\u001b[39m     \u001b[38;5;28mself\u001b[39m._dataset_kind == _DatasetKind.Iterable\n\u001b[32m    705\u001b[39m     \u001b[38;5;129;01mand\u001b[39;00m \u001b[38;5;28mself\u001b[39m._IterableDataset_len_called \u001b[38;5;129;01mis\u001b[39;00m \u001b[38;5;129;01mnot\u001b[39;00m \u001b[38;5;28;01mNone\u001b[39;00m\n\u001b[32m    706\u001b[39m     \u001b[38;5;129;01mand\u001b[39;00m \u001b[38;5;28mself\u001b[39m._num_yielded > \u001b[38;5;28mself\u001b[39m._IterableDataset_len_called\n\u001b[32m    707\u001b[39m ):\n",
      "\u001b[36mFile \u001b[39m\u001b[32m~/custom_env/lib/python3.12/site-packages/torch/utils/data/dataloader.py:757\u001b[39m, in \u001b[36m_SingleProcessDataLoaderIter._next_data\u001b[39m\u001b[34m(self)\u001b[39m\n\u001b[32m    755\u001b[39m \u001b[38;5;28;01mdef\u001b[39;00m\u001b[38;5;250m \u001b[39m\u001b[34m_next_data\u001b[39m(\u001b[38;5;28mself\u001b[39m):\n\u001b[32m    756\u001b[39m     index = \u001b[38;5;28mself\u001b[39m._next_index()  \u001b[38;5;66;03m# may raise StopIteration\u001b[39;00m\n\u001b[32m--> \u001b[39m\u001b[32m757\u001b[39m     data = \u001b[38;5;28;43mself\u001b[39;49m\u001b[43m.\u001b[49m\u001b[43m_dataset_fetcher\u001b[49m\u001b[43m.\u001b[49m\u001b[43mfetch\u001b[49m\u001b[43m(\u001b[49m\u001b[43mindex\u001b[49m\u001b[43m)\u001b[49m  \u001b[38;5;66;03m# may raise StopIteration\u001b[39;00m\n\u001b[32m    758\u001b[39m     \u001b[38;5;28;01mif\u001b[39;00m \u001b[38;5;28mself\u001b[39m._pin_memory:\n\u001b[32m    759\u001b[39m         data = _utils.pin_memory.pin_memory(data, \u001b[38;5;28mself\u001b[39m._pin_memory_device)\n",
      "\u001b[36mFile \u001b[39m\u001b[32m~/custom_env/lib/python3.12/site-packages/torch/utils/data/_utils/fetch.py:50\u001b[39m, in \u001b[36m_MapDatasetFetcher.fetch\u001b[39m\u001b[34m(self, possibly_batched_index)\u001b[39m\n\u001b[32m     48\u001b[39m \u001b[38;5;28;01mif\u001b[39;00m \u001b[38;5;28mself\u001b[39m.auto_collation:\n\u001b[32m     49\u001b[39m     \u001b[38;5;28;01mif\u001b[39;00m \u001b[38;5;28mhasattr\u001b[39m(\u001b[38;5;28mself\u001b[39m.dataset, \u001b[33m\"\u001b[39m\u001b[33m__getitems__\u001b[39m\u001b[33m\"\u001b[39m) \u001b[38;5;129;01mand\u001b[39;00m \u001b[38;5;28mself\u001b[39m.dataset.__getitems__:\n\u001b[32m---> \u001b[39m\u001b[32m50\u001b[39m         data = \u001b[38;5;28;43mself\u001b[39;49m\u001b[43m.\u001b[49m\u001b[43mdataset\u001b[49m\u001b[43m.\u001b[49m\u001b[43m__getitems__\u001b[49m\u001b[43m(\u001b[49m\u001b[43mpossibly_batched_index\u001b[49m\u001b[43m)\u001b[49m\n\u001b[32m     51\u001b[39m     \u001b[38;5;28;01melse\u001b[39;00m:\n\u001b[32m     52\u001b[39m         data = [\u001b[38;5;28mself\u001b[39m.dataset[idx] \u001b[38;5;28;01mfor\u001b[39;00m idx \u001b[38;5;129;01min\u001b[39;00m possibly_batched_index]\n",
      "\u001b[36mFile \u001b[39m\u001b[32m~/custom_env/lib/python3.12/site-packages/torch/utils/data/dataset.py:420\u001b[39m, in \u001b[36mSubset.__getitems__\u001b[39m\u001b[34m(self, indices)\u001b[39m\n\u001b[32m    418\u001b[39m     \u001b[38;5;28;01mreturn\u001b[39;00m \u001b[38;5;28mself\u001b[39m.dataset.__getitems__([\u001b[38;5;28mself\u001b[39m.indices[idx] \u001b[38;5;28;01mfor\u001b[39;00m idx \u001b[38;5;129;01min\u001b[39;00m indices])  \u001b[38;5;66;03m# type: ignore[attr-defined]\u001b[39;00m\n\u001b[32m    419\u001b[39m \u001b[38;5;28;01melse\u001b[39;00m:\n\u001b[32m--> \u001b[39m\u001b[32m420\u001b[39m     \u001b[38;5;28;01mreturn\u001b[39;00m [\u001b[38;5;28;43mself\u001b[39;49m\u001b[43m.\u001b[49m\u001b[43mdataset\u001b[49m\u001b[43m[\u001b[49m\u001b[38;5;28;43mself\u001b[39;49m\u001b[43m.\u001b[49m\u001b[43mindices\u001b[49m\u001b[43m[\u001b[49m\u001b[43midx\u001b[49m\u001b[43m]\u001b[49m\u001b[43m]\u001b[49m \u001b[38;5;28;01mfor\u001b[39;00m idx \u001b[38;5;129;01min\u001b[39;00m indices]\n",
      "\u001b[36mCell\u001b[39m\u001b[36m \u001b[39m\u001b[32mIn[50]\u001b[39m\u001b[32m, line 35\u001b[39m, in \u001b[36mTrajDataset.__getitem__\u001b[39m\u001b[34m(self, idx)\u001b[39m\n\u001b[32m     33\u001b[39m theta_init = \u001b[38;5;28mself\u001b[39m.theta_init[idx]\n\u001b[32m     34\u001b[39m thetadot_init = \u001b[38;5;28mself\u001b[39m.thetadot_init[idx]\n\u001b[32m---> \u001b[39m\u001b[32m35\u001b[39m target_pos = \u001b[38;5;28;43mself\u001b[39;49m\u001b[43m.\u001b[49m\u001b[43mtarget_pos\u001b[49m\u001b[43m[\u001b[49m\u001b[43midx\u001b[49m\u001b[43m]\u001b[49m\n\u001b[32m     36\u001b[39m target_quat = \u001b[38;5;28mself\u001b[39m.target_quat[idx]\n\u001b[32m     37\u001b[39m index = \u001b[38;5;28mself\u001b[39m.index[idx]\n",
      "\u001b[31mIndexError\u001b[39m: index 1769 is out of bounds for axis 0 with size 2"
     ]
    }
   ],
   "source": [
    "flow.train()\n",
    "c_flow = torch.compile(flow)\n",
    "\n",
    "avg_losses = []\n",
    "last_loss = torch.inf\n",
    "\n",
    "\n",
    "for epoch in trange(NUM_EPOCH):\n",
    "\tlosses = []\n",
    "\t\n",
    "\tfor (theta_init,thetadot_init, target_pos, target_quat, index) in train_loader:\n",
    "\n",
    "\n",
    "\t\ttheta_init = theta_init.to(DEVICE)\n",
    "\t\tthetadot_init = thetadot_init.to(DEVICE)\n",
    "\t\ttarget_pos = target_pos.to(DEVICE)\n",
    "\t\ttarget_quat = target_quat.to(DEVICE)\n",
    "\n",
    "\t\tmotion_data = [theta_init, thetadot_init, target_pos, target_quat]\n",
    "\t\tx_1 = torch.stack(motion_data)\n",
    "\t\tx_0 = torch.randn_like(x_1)\n",
    "\t\tt = torch.rand(len(x_1), 1, 1).to(device=DEVICE)\n",
    "\t\tx_t = (1 - t) * x_0 + t * x_1\n",
    "\t\tdx_t = x_1 - x_0\n",
    "\t\n",
    "\t\tloss = loss_fn(c_flow(x_t, motion_data, t, pcd), dx_t)\n",
    "\t\tlosses.append(loss.item())\n",
    "\n",
    "\t\toptimizer.zero_grad()\n",
    "\t\tloss.backward()\n",
    "\t\toptimizer.step()\n",
    "\n",
    "\n",
    "\tmean_loss = np.mean(losses)\n",
    "\tavg_losses.append(mean_loss)\n",
    "\t# scheduler.step()\n",
    "\n",
    "\tif epoch % 50 == 0:\n",
    "\t\tprint(f\"Epoch: {epoch + 1}, Train Loss: {mean_loss:.3f}\")\n",
    "\t#writer.add_scalar('test_{}'.format(test), loss, epoch)\n",
    "\n",
    "\tif loss <= last_loss:\n",
    "\t\ttorch.save(flow.state_dict(), f\"./weights/test_{test}_lowest.pt\")\n",
    "\t\ttorch.save(optimizer.state_dict(), f\"./opts/test_{test}_lowest.pt\")\n",
    "\t\tlast_loss = loss"
   ]
  }
 ],
 "metadata": {
  "kernelspec": {
   "display_name": "custom_env",
   "language": "python",
   "name": "python3"
  },
  "language_info": {
   "codemirror_mode": {
    "name": "ipython",
    "version": 3
   },
   "file_extension": ".py",
   "mimetype": "text/x-python",
   "name": "python",
   "nbconvert_exporter": "python",
   "pygments_lexer": "ipython3",
   "version": "3.12.3"
  }
 },
 "nbformat": 4,
 "nbformat_minor": 2
}
