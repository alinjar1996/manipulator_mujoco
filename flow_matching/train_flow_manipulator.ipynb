{
 "cells": [
  {
   "cell_type": "code",
   "execution_count": 68,
   "metadata": {},
   "outputs": [
    {
     "name": "stdout",
     "output_type": "stream",
     "text": [
      "/home/alinjar/manipulator/manipulator_mujoco/flow_matching\n"
     ]
    }
   ],
   "source": [
    "import numpy as np\n",
    "import torch \n",
    "torch._dynamo.config.suppress_errors = True\n",
    "torch._dynamo.disable()\n",
    "from tqdm import tqdm,trange    \n",
    "from torch import Tensor\n",
    "from torch.utils.data import Dataset, DataLoader, random_split\n",
    "\n",
    "import matplotlib.pyplot as plt\n",
    "# from torch.utils.tensorboard import SummaryWriter\n",
    "\n",
    "import os\n",
    "\n",
    "print(os.getcwd())  \n",
    "\n",
    "from flow_model_manipulator import Flow\n",
    "import open3d as o3d\n",
    "\n",
    "weights_dir = \"../flow_training_weights\"\n",
    "opts_dir = \"../flow_training_opts\"\n",
    "os.makedirs(weights_dir, exist_ok=True)\n",
    "os.makedirs(opts_dir, exist_ok=True)\n",
    "\n"
   ]
  },
  {
   "cell_type": "code",
   "execution_count": 69,
   "metadata": {},
   "outputs": [],
   "source": [
    "\n",
    "\n",
    "torch.set_float32_matmul_precision('high')\n",
    "\n",
    "# writer = SummaryWriter(\"./logs\")\n",
    "test = 'manipulator'"
   ]
  },
  {
   "cell_type": "code",
   "execution_count": 70,
   "metadata": {},
   "outputs": [],
   "source": [
    "BATCH_SIZE      = 500\n",
    "LEARNING_RATE   = 1e-3\n",
    "SEED            = 0\n",
    "DEVICE          = 'cuda'      "
   ]
  },
  {
   "cell_type": "code",
   "execution_count": 71,
   "metadata": {},
   "outputs": [],
   "source": [
    "torch.manual_seed(seed=SEED)\n",
    "torch.cuda.manual_seed(seed=SEED)"
   ]
  },
  {
   "cell_type": "code",
   "execution_count": 72,
   "metadata": {},
   "outputs": [],
   "source": [
    "class TrajDataset(Dataset):\n",
    "    def __init__(self, theta_init_data, thetadot_init_data, target_pos_data, target_quat_data):\n",
    "        \n",
    "        # goal\n",
    "        self.theta_init = theta_init_data\n",
    "        self.thetadot_init = thetadot_init_data\n",
    "        self.target_pos = target_pos_data\n",
    "        self.target_quat = target_quat_data\n",
    "\n",
    "\n",
    "        \n",
    "    \n",
    "    def __len__(self):\n",
    "        return len(self.theta_init)    \n",
    "            \n",
    "    def __getitem__(self, idx):\n",
    "\n",
    "        theta_init = self.theta_init[idx]\n",
    "        thetadot_init = self.thetadot_init[idx]\n",
    "        target_pos = self.target_pos[idx]\n",
    "        target_quat = self.target_quat[idx]\n",
    "                 \n",
    "        return torch.tensor(theta_init).float(), torch.tensor(thetadot_init).float(), torch.tensor(target_pos).float(), \\\n",
    "            torch.tensor(target_quat).float()"
   ]
  },
  {
   "cell_type": "code",
   "execution_count": 73,
   "metadata": {},
   "outputs": [
    {
     "name": "stdout",
     "output_type": "stream",
     "text": [
      "/home/alinjar/manipulator/manipulator_mujoco\n"
     ]
    }
   ],
   "source": [
    "\n",
    "\n",
    "# One step behind the current working directory\n",
    "parent_dir = os.path.abspath(os.path.join(os.getcwd(), os.pardir))\n",
    "\n",
    "print(parent_dir)\n"
   ]
  },
  {
   "cell_type": "code",
   "execution_count": 74,
   "metadata": {},
   "outputs": [
    {
     "name": "stdout",
     "output_type": "stream",
     "text": [
      "/home/alinjar/manipulator/manipulator_mujoco/custom_data_['target_2']_inference_False\n"
     ]
    }
   ],
   "source": [
    "\n",
    "\n",
    "# Build relative paths from parent directory\n",
    "data_dir = os.path.join(parent_dir, \"custom_data_['target_2']_inference_False\")\n",
    "pcd_dir = os.path.join(parent_dir, \"pcd_data\")\n",
    "\n",
    "print(data_dir)\n"
   ]
  },
  {
   "cell_type": "code",
   "execution_count": 75,
   "metadata": {},
   "outputs": [
    {
     "name": "stdout",
     "output_type": "stream",
     "text": [
      "torch.Size([307200, 3, 1])\n",
      "(106, 6)\n",
      "(106, 6)\n",
      "(106, 3)\n",
      "(106, 4)\n"
     ]
    }
   ],
   "source": [
    "# Load the data\n",
    "\n",
    "theta_init_data = np.loadtxt(os.path.join(data_dir, \"theta.csv\"), delimiter=\",\")\n",
    "thetadot_init_data = np.loadtxt(os.path.join(data_dir, \"thetadot.csv\"), delimiter=\",\")\n",
    "target_pos_data = np.loadtxt(os.path.join(data_dir, \"target_positions.csv\"), delimiter=\",\")\n",
    "target_quat_data = np.loadtxt(os.path.join(data_dir, \"target_quaternions.csv\"), delimiter=\",\")\n",
    "\n",
    "\n",
    "\n",
    "pcd_path = os.path.join(pcd_dir, \"output_scene_without_robot_unpacked_rgb.pcd\")\n",
    "pcd = o3d.io.read_point_cloud(pcd_path)\n",
    "\n",
    "# points = np.asarray(pcd.points)       # XYZ points\n",
    "# colors = np.asarray(pcd.colors)       # RGB (if present)\n",
    "\n",
    "# Convert Open3D point cloud to a NumPy array\n",
    "pcd_np = np.asarray(pcd.points)\n",
    "\n",
    "# Then convert to PyTorch tensor (and move to the correct device)\n",
    "\n",
    "pcd_tensor = torch.tensor(pcd_np.T, dtype=torch.float32, device=DEVICE).unsqueeze(0)  # shape: [1, 3, length(pcd)]\n",
    "pcd_tensor = pcd_tensor.permute(2, 1, 0)  # shape: [length(pcd), 3, 1]\n",
    "\n",
    "\n",
    "\n",
    "print(pcd_tensor.shape)\n",
    "# print(colors.shape)\n",
    "\n",
    "print(theta_init_data.shape)\n",
    "print(thetadot_init_data.shape)\n",
    "print(target_pos_data.shape)\n",
    "print(target_quat_data.shape)\n"
   ]
  },
  {
   "cell_type": "code",
   "execution_count": 76,
   "metadata": {},
   "outputs": [],
   "source": [
    "theta_init_mean, theta_init_std = torch.tensor(theta_init_data.mean()).to(DEVICE), torch.tensor(theta_init_data.std()).to(DEVICE)\n",
    "thetadot_init_mean, thetadot_init_std = torch.tensor(thetadot_init_data.mean()).to(DEVICE), torch.tensor(thetadot_init_data.std()).to(DEVICE)\n",
    "target_pos_mean, target_pos_std = torch.tensor(target_pos_data.mean()).to(DEVICE), torch.tensor(target_pos_data.std()).to(DEVICE)\n",
    "target_quat_mean, target_quat_std = torch.tensor(target_quat_data.mean()).to(DEVICE), torch.tensor(target_quat_data.std()).to(DEVICE)\n"
   ]
  },
  {
   "cell_type": "code",
   "execution_count": 77,
   "metadata": {},
   "outputs": [
    {
     "name": "stdout",
     "output_type": "stream",
     "text": [
      "len(dataset) 106\n"
     ]
    }
   ],
   "source": [
    "dataset = TrajDataset(theta_init_data, thetadot_init_data, target_pos_data, target_quat_data)\n",
    "print(\"len(dataset)\", len(dataset))\n",
    "\n",
    "train_size = int(0.9 * len(dataset))  \n",
    "test_size = len(dataset) - train_size  \n",
    "\n",
    "# Create a generator with a fixed seed\n",
    "generator = torch.Generator().manual_seed(0)\n",
    "\n",
    "train_dataset, test_dataset = random_split(dataset, [train_size, test_size], generator=generator)\n",
    "test_loader = DataLoader(test_dataset, batch_size=BATCH_SIZE, shuffle=True, drop_last=False)\n",
    "train_loader = DataLoader(train_dataset, batch_size=BATCH_SIZE, shuffle=True, drop_last=False)\n",
    "\n",
    "out_chan = 512\n",
    "\n",
    "flow = Flow(out_chan,theta_init_mean,theta_init_std, thetadot_init_mean, theta_init_std, target_pos_mean, target_pos_std,\n",
    "            target_quat_mean, target_quat_std).cuda()\n",
    "\n",
    "loss_fn = torch.nn.MSELoss()\n",
    "optimizer = torch.optim.AdamW(flow.parameters(), lr=LEARNING_RATE)"
   ]
  },
  {
   "cell_type": "code",
   "execution_count": 78,
   "metadata": {},
   "outputs": [],
   "source": [
    "flow.train()\n",
    "c_flow = torch.compile(flow)\n"
   ]
  },
  {
   "cell_type": "code",
   "execution_count": 79,
   "metadata": {},
   "outputs": [
    {
     "name": "stderr",
     "output_type": "stream",
     "text": [
      "100%|██████████| 1/1 [00:00<00:00, 35.85it/s]"
     ]
    },
    {
     "name": "stdout",
     "output_type": "stream",
     "text": [
      "Epoch: 1, Train Loss: 2.112\n"
     ]
    },
    {
     "name": "stderr",
     "output_type": "stream",
     "text": [
      "\n",
      "100%|██████████| 1/1 [00:00<00:00, 34.64it/s]\n",
      "100%|██████████| 1/1 [00:00<00:00, 29.65it/s]\n",
      "100%|██████████| 1/1 [00:00<00:00, 30.12it/s]\n",
      "100%|██████████| 1/1 [00:00<00:00, 31.61it/s]\n",
      "100%|██████████| 1/1 [00:00<00:00, 30.67it/s]\n"
     ]
    },
    {
     "name": "stdout",
     "output_type": "stream",
     "text": [
      "Epoch: 6, Train Loss: 1.418\n"
     ]
    },
    {
     "name": "stderr",
     "output_type": "stream",
     "text": [
      "100%|██████████| 1/1 [00:00<00:00, 30.02it/s]\n",
      "100%|██████████| 1/1 [00:00<00:00, 32.56it/s]\n",
      "100%|██████████| 1/1 [00:00<00:00, 31.29it/s]\n",
      "100%|██████████| 1/1 [00:00<00:00, 32.26it/s]\n",
      "100%|██████████| 1/1 [00:00<00:00, 32.70it/s]\n"
     ]
    },
    {
     "name": "stdout",
     "output_type": "stream",
     "text": [
      "Epoch: 11, Train Loss: 1.214\n"
     ]
    },
    {
     "name": "stderr",
     "output_type": "stream",
     "text": [
      "100%|██████████| 1/1 [00:00<00:00, 32.30it/s]\n",
      "100%|██████████| 1/1 [00:00<00:00, 32.65it/s]\n",
      "100%|██████████| 1/1 [00:00<00:00, 32.31it/s]\n",
      "100%|██████████| 1/1 [00:00<00:00, 30.34it/s]\n",
      "100%|██████████| 1/1 [00:00<00:00, 31.99it/s]\n"
     ]
    },
    {
     "name": "stdout",
     "output_type": "stream",
     "text": [
      "Epoch: 16, Train Loss: 1.100\n"
     ]
    },
    {
     "name": "stderr",
     "output_type": "stream",
     "text": [
      "100%|██████████| 1/1 [00:00<00:00, 32.56it/s]\n",
      "100%|██████████| 1/1 [00:00<00:00, 32.08it/s]\n",
      "100%|██████████| 1/1 [00:00<00:00, 31.53it/s]\n",
      "100%|██████████| 1/1 [00:00<00:00, 29.09it/s]\n",
      "100%|██████████| 1/1 [00:00<00:00, 31.77it/s]\n"
     ]
    },
    {
     "name": "stdout",
     "output_type": "stream",
     "text": [
      "Epoch: 21, Train Loss: 1.056\n"
     ]
    },
    {
     "name": "stderr",
     "output_type": "stream",
     "text": [
      "100%|██████████| 1/1 [00:00<00:00, 28.65it/s]\n",
      "100%|██████████| 1/1 [00:00<00:00, 32.65it/s]\n",
      "100%|██████████| 1/1 [00:00<00:00, 32.39it/s]\n",
      "100%|██████████| 1/1 [00:00<00:00, 32.82it/s]\n",
      "100%|██████████| 1/1 [00:00<00:00, 32.78it/s]\n"
     ]
    },
    {
     "name": "stdout",
     "output_type": "stream",
     "text": [
      "Epoch: 26, Train Loss: 1.138\n"
     ]
    },
    {
     "name": "stderr",
     "output_type": "stream",
     "text": [
      "100%|██████████| 1/1 [00:00<00:00, 31.56it/s]\n",
      "100%|██████████| 1/1 [00:00<00:00, 33.50it/s]\n",
      "100%|██████████| 1/1 [00:00<00:00, 31.85it/s]\n",
      "100%|██████████| 1/1 [00:00<00:00, 31.59it/s]\n",
      "100%|██████████| 1/1 [00:00<00:00, 26.90it/s]\n"
     ]
    },
    {
     "name": "stdout",
     "output_type": "stream",
     "text": [
      "Epoch: 31, Train Loss: 1.033\n"
     ]
    },
    {
     "name": "stderr",
     "output_type": "stream",
     "text": [
      "100%|██████████| 1/1 [00:00<00:00, 30.08it/s]\n",
      "100%|██████████| 1/1 [00:00<00:00, 32.45it/s]\n",
      "100%|██████████| 1/1 [00:00<00:00, 31.44it/s]\n",
      "100%|██████████| 1/1 [00:00<00:00, 34.57it/s]\n",
      "100%|██████████| 1/1 [00:00<00:00, 32.56it/s]\n"
     ]
    },
    {
     "name": "stdout",
     "output_type": "stream",
     "text": [
      "Epoch: 36, Train Loss: 1.068\n"
     ]
    },
    {
     "name": "stderr",
     "output_type": "stream",
     "text": [
      "100%|██████████| 1/1 [00:00<00:00, 30.59it/s]\n",
      "100%|██████████| 1/1 [00:00<00:00, 29.83it/s]\n",
      "100%|██████████| 1/1 [00:00<00:00, 34.34it/s]\n",
      "100%|██████████| 1/1 [00:00<00:00, 32.05it/s]\n",
      "100%|██████████| 1/1 [00:00<00:00, 32.45it/s]\n"
     ]
    },
    {
     "name": "stdout",
     "output_type": "stream",
     "text": [
      "Epoch: 41, Train Loss: 1.052\n"
     ]
    },
    {
     "name": "stderr",
     "output_type": "stream",
     "text": [
      "100%|██████████| 1/1 [00:00<00:00, 36.57it/s]\n",
      "100%|██████████| 1/1 [00:00<00:00, 33.94it/s]\n",
      "100%|██████████| 1/1 [00:00<00:00, 33.76it/s]\n",
      "100%|██████████| 1/1 [00:00<00:00, 33.72it/s]\n",
      "100%|██████████| 1/1 [00:00<00:00, 32.51it/s]\n"
     ]
    },
    {
     "name": "stdout",
     "output_type": "stream",
     "text": [
      "Epoch: 46, Train Loss: 0.935\n"
     ]
    },
    {
     "name": "stderr",
     "output_type": "stream",
     "text": [
      "100%|██████████| 1/1 [00:00<00:00, 29.85it/s]\n",
      "100%|██████████| 1/1 [00:00<00:00, 32.73it/s]\n",
      "100%|██████████| 1/1 [00:00<00:00, 30.16it/s]\n",
      "100%|██████████| 1/1 [00:00<00:00, 32.94it/s]\n",
      "100%|██████████| 1/1 [00:00<00:00, 30.80it/s]\n"
     ]
    },
    {
     "name": "stdout",
     "output_type": "stream",
     "text": [
      "Epoch: 51, Train Loss: 0.871\n"
     ]
    },
    {
     "name": "stderr",
     "output_type": "stream",
     "text": [
      "100%|██████████| 1/1 [00:00<00:00, 32.49it/s]\n",
      "100%|██████████| 1/1 [00:00<00:00, 31.81it/s]\n",
      "100%|██████████| 1/1 [00:00<00:00, 33.07it/s]\n",
      "100%|██████████| 1/1 [00:00<00:00, 33.04it/s]\n",
      "100%|██████████| 1/1 [00:00<00:00, 37.00it/s]\n"
     ]
    },
    {
     "name": "stdout",
     "output_type": "stream",
     "text": [
      "Epoch: 56, Train Loss: 0.754\n"
     ]
    },
    {
     "name": "stderr",
     "output_type": "stream",
     "text": [
      "100%|██████████| 1/1 [00:00<00:00, 31.13it/s]\n",
      "100%|██████████| 1/1 [00:00<00:00, 30.80it/s]\n",
      "100%|██████████| 1/1 [00:00<00:00, 32.55it/s]\n",
      "100%|██████████| 1/1 [00:00<00:00, 36.15it/s]\n",
      "100%|██████████| 1/1 [00:00<00:00, 33.59it/s]\n"
     ]
    },
    {
     "name": "stdout",
     "output_type": "stream",
     "text": [
      "Epoch: 61, Train Loss: 0.524\n"
     ]
    },
    {
     "name": "stderr",
     "output_type": "stream",
     "text": [
      "100%|██████████| 1/1 [00:00<00:00, 36.68it/s]\n",
      "100%|██████████| 1/1 [00:00<00:00, 33.53it/s]\n",
      "100%|██████████| 1/1 [00:00<00:00, 31.39it/s]\n",
      "100%|██████████| 1/1 [00:00<00:00, 33.25it/s]\n",
      "100%|██████████| 1/1 [00:00<00:00, 32.79it/s]\n"
     ]
    },
    {
     "name": "stdout",
     "output_type": "stream",
     "text": [
      "Epoch: 66, Train Loss: 0.380\n"
     ]
    },
    {
     "name": "stderr",
     "output_type": "stream",
     "text": [
      "100%|██████████| 1/1 [00:00<00:00, 36.20it/s]\n",
      "100%|██████████| 1/1 [00:00<00:00, 35.46it/s]\n",
      "100%|██████████| 1/1 [00:00<00:00, 31.29it/s]\n",
      "100%|██████████| 1/1 [00:00<00:00, 31.88it/s]\n",
      "100%|██████████| 1/1 [00:00<00:00, 35.51it/s]\n"
     ]
    },
    {
     "name": "stdout",
     "output_type": "stream",
     "text": [
      "Epoch: 71, Train Loss: 0.348\n"
     ]
    },
    {
     "name": "stderr",
     "output_type": "stream",
     "text": [
      "100%|██████████| 1/1 [00:00<00:00, 29.08it/s]\n",
      "100%|██████████| 1/1 [00:00<00:00, 31.91it/s]\n",
      "100%|██████████| 1/1 [00:00<00:00, 31.55it/s]\n",
      "100%|██████████| 1/1 [00:00<00:00, 33.33it/s]\n",
      "100%|██████████| 1/1 [00:00<00:00, 34.82it/s]\n"
     ]
    },
    {
     "name": "stdout",
     "output_type": "stream",
     "text": [
      "Epoch: 76, Train Loss: 0.333\n"
     ]
    },
    {
     "name": "stderr",
     "output_type": "stream",
     "text": [
      "100%|██████████| 1/1 [00:00<00:00, 36.05it/s]\n",
      "100%|██████████| 1/1 [00:00<00:00, 30.91it/s]\n",
      "100%|██████████| 1/1 [00:00<00:00, 32.40it/s]\n",
      "100%|██████████| 1/1 [00:00<00:00, 31.65it/s]\n",
      "100%|██████████| 1/1 [00:00<00:00, 35.93it/s]\n"
     ]
    },
    {
     "name": "stdout",
     "output_type": "stream",
     "text": [
      "Epoch: 81, Train Loss: 0.295\n"
     ]
    },
    {
     "name": "stderr",
     "output_type": "stream",
     "text": [
      "100%|██████████| 1/1 [00:00<00:00, 29.57it/s]\n",
      "100%|██████████| 1/1 [00:00<00:00, 28.10it/s]\n",
      "100%|██████████| 1/1 [00:00<00:00, 32.21it/s]\n",
      "100%|██████████| 1/1 [00:00<00:00, 31.99it/s]\n",
      "100%|██████████| 1/1 [00:00<00:00, 34.36it/s]\n"
     ]
    },
    {
     "name": "stdout",
     "output_type": "stream",
     "text": [
      "Epoch: 86, Train Loss: 0.230\n"
     ]
    },
    {
     "name": "stderr",
     "output_type": "stream",
     "text": [
      "100%|██████████| 1/1 [00:00<00:00, 31.84it/s]\n",
      "100%|██████████| 1/1 [00:00<00:00, 32.61it/s]\n",
      "100%|██████████| 1/1 [00:00<00:00, 35.67it/s]\n",
      "100%|██████████| 1/1 [00:00<00:00, 33.09it/s]\n",
      "100%|██████████| 1/1 [00:00<00:00, 30.53it/s]\n"
     ]
    },
    {
     "name": "stdout",
     "output_type": "stream",
     "text": [
      "Epoch: 91, Train Loss: 0.219\n"
     ]
    },
    {
     "name": "stderr",
     "output_type": "stream",
     "text": [
      "100%|██████████| 1/1 [00:00<00:00, 32.48it/s]\n",
      "100%|██████████| 1/1 [00:00<00:00, 36.92it/s]\n",
      "100%|██████████| 1/1 [00:00<00:00, 29.83it/s]\n",
      "100%|██████████| 1/1 [00:00<00:00, 37.74it/s]\n",
      "100%|██████████| 1/1 [00:00<00:00, 34.18it/s]\n"
     ]
    },
    {
     "name": "stdout",
     "output_type": "stream",
     "text": [
      "Epoch: 96, Train Loss: 0.169\n"
     ]
    },
    {
     "name": "stderr",
     "output_type": "stream",
     "text": [
      "100%|██████████| 1/1 [00:00<00:00, 32.01it/s]\n",
      "100%|██████████| 1/1 [00:00<00:00, 31.73it/s]\n",
      "100%|██████████| 1/1 [00:00<00:00, 33.08it/s]\n",
      "100%|██████████| 1/1 [00:00<00:00, 31.94it/s]\n"
     ]
    }
   ],
   "source": [
    "\n",
    "avg_losses = []\n",
    "last_loss = torch.inf\n",
    "\n",
    "NUM_EPOCH = 100\n",
    "for epoch in range(NUM_EPOCH):\n",
    "\tlosses = []\n",
    "\t\n",
    "\tfor (theta_init,thetadot_init, target_pos, target_quat) in tqdm(train_loader):\n",
    "\n",
    "\n",
    "\t\ttheta_init = theta_init.to(DEVICE)\n",
    "\t\tthetadot_init = thetadot_init.to(DEVICE)\n",
    "\t\ttarget_pos = target_pos.to(DEVICE)\n",
    "\t\ttarget_quat = target_quat.to(DEVICE)\n",
    "\n",
    "\n",
    "\t\tmotion_data = torch.cat([theta_init, thetadot_init, target_pos, target_quat], dim=-1)  # or dim=1\n",
    "\t\tx_1 = motion_data\n",
    "\n",
    "\t\tx_0 = torch.randn_like(x_1)\n",
    "\t\tt = torch.rand(len(x_1), 1).to(device=DEVICE)\n",
    "\t\tx_t = (1 - t) * x_0 + t * x_1\n",
    "\n",
    "\t\tdx_t = x_1 - x_0\n",
    "\t\tloss = loss_fn(c_flow(x_t, motion_data, t, pcd_tensor), dx_t)\n",
    "\t\tlosses.append(loss.item())\n",
    "\n",
    "\t\toptimizer.zero_grad()\n",
    "\t\tloss.backward()\n",
    "\t\toptimizer.step()\n",
    "\n",
    "\n",
    "\tmean_loss = np.mean(losses)\n",
    "\tavg_losses.append(mean_loss)\n",
    "\t# scheduler.step()\n",
    "\n",
    "\tif epoch % 5 == 0:\n",
    "\t\tprint(f\"Epoch: {epoch + 1}, Train Loss: {mean_loss:.3f}\")\n",
    "\t#writer.add_scalar('test_{}'.format(test), loss, epoch)\n",
    "\n",
    "\tif loss <= last_loss:\n",
    "\t\t# torch.save(flow.state_dict(), f\"./weights/test_{test}_lowest.pt\")\n",
    "\t\t# torch.save(optimizer.state_dict(), f\"./opts/test_{test}_lowest.pt\")\n",
    "\t\ttorch.save(flow.state_dict(), f\"{weights_dir}/test_{test}.pt\")\n",
    "\t\ttorch.save(optimizer.state_dict(), f\"{opts_dir}/test_{test}.pt\")\n",
    "\t\tlast_loss = loss"
   ]
  },
  {
   "cell_type": "code",
   "execution_count": 80,
   "metadata": {},
   "outputs": [
    {
     "data": {
      "image/png": "[encoded data removed]",
      "text/plain": [
       "<Figure size 640x480 with 1 Axes>"
      ]
     },
     "metadata": {},
     "output_type": "display_data"
    }
   ],
   "source": [
    "%matplotlib inline\n",
    "plt.Figure()\n",
    "plt.plot(avg_losses)\n",
    "plt.show()"
   ]
  },
  {
   "cell_type": "code",
   "execution_count": 81,
   "metadata": {},
   "outputs": [
    {
     "name": "stderr",
     "output_type": "stream",
     "text": [
      "/tmp/ipykernel_592313/3914206872.py:6: FutureWarning: You are using `torch.load` with `weights_only=False` (the current default value), which uses the default pickle module implicitly. It is possible to construct malicious pickle data which will execute arbitrary code during unpickling (See https://github.com/pytorch/pytorch/blob/main/SECURITY.md#untrusted-models for more details). In a future release, the default value for `weights_only` will be flipped to `True`. This limits the functions that could be executed during unpickling. Arbitrary objects will no longer be allowed to be loaded via this mode unless they are explicitly allowlisted by the user via `torch.serialization.add_safe_globals`. We recommend you start setting `weights_only=True` for any use case where you don't have full control of the loaded file. Please open an issue on GitHub for any issues related to this experimental feature.\n",
      "  flow.load_state_dict(torch.load(f\"../flow_training_weights/test_{test}.pt\"))\n"
     ]
    }
   ],
   "source": [
    "import contextlib\n",
    "from io import StringIO\n",
    "\n",
    "with contextlib.redirect_stdout(StringIO()):\n",
    "\n",
    "    flow.load_state_dict(torch.load(f\"../flow_training_weights/test_{test}.pt\"))\n",
    "# flow.load_state_dict(th.load(f\"./weights/test_{test}_lowest.pt\"))\n",
    "\n",
    "    flow.eval()\n"
   ]
  },
  {
   "cell_type": "code",
   "execution_count": 82,
   "metadata": {},
   "outputs": [
    {
     "name": "stdout",
     "output_type": "stream",
     "text": [
      "torch.Size([95, 19])\n"
     ]
    }
   ],
   "source": [
    "\n",
    "# x_fin,y_fin,theta_init,theta_fin,gt_x,gt_y,index = next(iter(train_loader))\n",
    "\n",
    "theta_init,thetadot_init, target_pos, target_quat = next(iter(train_loader))\n",
    "\n",
    "# terrain_data = [theta_init, theta_fin, x_fin, y_fin, lam, th.hstack([p1,p2,p3,p4]), cov]\n",
    "\n",
    "motion_data = torch.cat([theta_init, thetadot_init, target_pos, target_quat], dim=-1)\n",
    "\n",
    "print(motion_data.shape)"
   ]
  },
  {
   "cell_type": "code",
   "execution_count": null,
   "metadata": {},
   "outputs": [],
   "source": [
    "\n",
    "\n",
    "# x_1 = th.stack([gt_x,gt_y], dim=1)\n",
    "# x_0 = th.randn_like(x_1)\n",
    "# time_steps = th.linspace(0, 1.0, n_steps + 1, device=DEVICE).unsqueeze(1).unsqueeze(2)\n",
    "\n",
    "x_1 =  motion_data.to(DEVICE)\n",
    "#x_1 = x_1.unsqueeze(2)\n",
    "\n",
    "# x_1 = x_1.unsqueeze(1).repeat(1, 95, 1)\n",
    "\n",
    "x_0 = torch.randn_like(x_1).to(DEVICE)\n",
    "\n",
    "pcd_tensor = pcd_tensor.to(DEVICE)\n",
    "\n",
    "x = x_0.clone().to(DEVICE)\n",
    "\n",
    "\n"
   ]
  },
  {
   "cell_type": "code",
   "execution_count": null,
   "metadata": {},
   "outputs": [
    {
     "name": "stdout",
     "output_type": "stream",
     "text": [
      "torch.Size([95, 19])\n",
      "torch.Size([95, 19])\n",
      "torch.Size([9, 1])\n"
     ]
    }
   ],
   "source": [
    "print(x.shape)\n",
    "print(motion_data.shape)"
   ]
  },
  {
   "cell_type": "code",
   "execution_count": null,
   "metadata": {},
   "outputs": [
    {
     "data": {
      "image/png": "[encoded data removed]",
      "text/plain": [
       "<Figure size 1500x1500 with 8 Axes>"
      ]
     },
     "metadata": {},
     "output_type": "display_data"
    }
   ],
   "source": [
    "n_steps = 8 \n",
    "\n",
    "time_steps = torch.linspace(0, 1.0, n_steps + 1).unsqueeze(1)\n",
    "time_steps = time_steps.to(DEVICE)\n",
    "\n",
    "n_row = 4\n",
    "n_col = int(n_steps / n_row)\n",
    "rows, cols = n_row, n_col\n",
    "fig, axes = plt.subplots(rows, cols, figsize=(15, 15), sharex=True, sharey=True)\n",
    "\n",
    "for i in range(n_steps):\n",
    "\twith torch.inference_mode():\n",
    "\t\tt0 = time_steps[i].view(1, 1).expand(x_0.shape[0], 1)\n",
    "\t\tt1 = time_steps[i+1].view(1, 1).expand(x_0.shape[0], 1)\n",
    "\n",
    "\t\tx = flow.step(x, motion_data, t0, t1, pcd_tensor)\n",
    "\t\tx_ = x.detach().cpu().numpy()\n",
    "\t\tx1_ = x_1.detach().cpu().numpy()\n",
    "\n",
    "\t\trow, col = divmod(i, cols)\n",
    "\t\tax = axes[row, col]\n",
    "\t\tax.scatter(x_[:, 0], x_[:, 6], s=10)\n",
    "\t\tax.scatter(x1_[:, 0], x1_[:, 6], color='red', s=10)\n",
    "\t\tax.set_title(f't = {time_steps[i+1].item():.2f}')\n",
    "plt.tight_layout()\n",
    "plt.show()\t\t\n"
   ]
  },
  {
   "cell_type": "code",
   "execution_count": 86,
   "metadata": {},
   "outputs": [
    {
     "name": "stdout",
     "output_type": "stream",
     "text": [
      "(95, 19)\n",
      "(95, 19)\n"
     ]
    }
   ],
   "source": [
    "print(x_.shape)\n",
    "print(x1_.shape)"
   ]
  }
 ],
 "metadata": {
  "kernelspec": {
   "display_name": "custom_env",
   "language": "python",
   "name": "python3"
  },
  "language_info": {
   "codemirror_mode": {
    "name": "ipython",
    "version": 3
   },
   "file_extension": ".py",
   "mimetype": "text/x-python",
   "name": "python",
   "nbconvert_exporter": "python",
   "pygments_lexer": "ipython3",
   "version": "3.12.3"
  }
 },
 "nbformat": 4,
 "nbformat_minor": 2
}
