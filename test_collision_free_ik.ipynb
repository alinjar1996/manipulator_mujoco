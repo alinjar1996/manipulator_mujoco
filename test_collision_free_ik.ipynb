{
 "cells": [
  {
   "cell_type": "code",
   "execution_count": 64,
   "id": "cd704c56",
   "metadata": {},
   "outputs": [],
   "source": [
    "import numpy as np\n",
    "import os\n",
    "import mujoco\n",
    "from collision_free_ik.mink.lie import SE3, SO3\n",
    "from collision_free_ik.mink.configuration import Configuration\n",
    "from collision_free_ik.mink.limits.configuration_limit import ConfigurationLimit\n",
    "from collision_free_ik.mink.solve_ik import solve_ik\n",
    "from collision_free_ik.mink.tasks.frame_task import FrameTask\n",
    "\n",
    "# Load MuJoCo model\n",
    "# xml_path = os.path.join(os.path.dirname(__file__), \"examples/universal_robots_ur5e/scene.xml\")\n",
    "xml_path = os.path.join(\"./sampling_based_planner/ur5e_hande_mjx/scene.xml\")\n",
    "model = mujoco.MjModel.from_xml_path(xml_path)\n",
    "\n",
    "data = mujoco.MjData(model)\n"
   ]
  },
  {
   "cell_type": "code",
   "execution_count": 65,
   "id": "50309909",
   "metadata": {},
   "outputs": [
    {
     "name": "stdout",
     "output_type": "stream",
     "text": [
      "0: name=shoulder_pan_joint_1, type=3, qposadr=0\n",
      "1: name=shoulder_lift_joint_1, type=3, qposadr=1\n",
      "2: name=elbow_joint_1, type=3, qposadr=2\n",
      "3: name=wrist_1_joint_1, type=3, qposadr=3\n",
      "4: name=wrist_2_joint_1, type=3, qposadr=4\n",
      "5: name=wrist_3_joint_1, type=3, qposadr=5\n"
     ]
    }
   ],
   "source": [
    "for i in range(model.njnt):\n",
    "    print(f\"{i}: name={model.joint(i).name}, type={model.jnt_type[i]}, qposadr={model.jnt_qposadr[i]}\")\n"
   ]
  },
  {
   "cell_type": "code",
   "execution_count": 66,
   "id": "832acb00",
   "metadata": {},
   "outputs": [],
   "source": [
    "current_robot_configuration = np.zeros(model.nq)\n",
    "\n",
    "# Define current joint state\n",
    "current_joint_positions = np.array([0.0, 0.0, 0.0, 0.0, 0.0, 0.0])\n",
    "\n",
    "#current_robot_configuration[:6] = current_joint_positions\n",
    "\n",
    "configuration = Configuration(model, current_joint_positions)\n",
    "\n",
    "# Define target pose for end-effector\n",
    "target_position = np.array([-0.3, -0.3, 0.5])  # [x, y, z] in meters\n",
    "\n",
    "# Create target orientation (identity quaternion = no rotation)\n",
    "target_quaternion = np.array([0.0, 1.0, 0.0, 0.0])  # [w, x, y, z]\n",
    "rotation = SO3(wxyz=target_quaternion)"
   ]
  },
  {
   "cell_type": "code",
   "execution_count": 67,
   "id": "71feee9b",
   "metadata": {},
   "outputs": [],
   "source": [
    "# Create SE3 transform\n",
    "target_pose = SE3.from_rotation_and_translation(\n",
    "    rotation=rotation,\n",
    "    translation=target_position\n",
    ")\n"
   ]
  },
  {
   "cell_type": "code",
   "execution_count": 68,
   "id": "60213e33",
   "metadata": {},
   "outputs": [],
   "source": [
    "\n",
    "# Create FrameTask\n",
    "frame_task = FrameTask(\n",
    "    frame_name=\"tcp\",          # Replace with your end-effector body/site name\n",
    "    frame_type=\"site\",           # \"body\", \"geom\", or \"site\"\n",
    "    position_cost=1.0,           # Weight for position control\n",
    "    orientation_cost=0.5,        # Weight for orientation control\n",
    "    gain=1.0,\n",
    "    lm_damping=0.0\n",
    ")\n",
    "frame_task.set_target(target_pose)\n"
   ]
  },
  {
   "cell_type": "code",
   "execution_count": null,
   "id": "0b102c6c",
   "metadata": {},
   "outputs": [
    {
     "name": "stdout",
     "output_type": "stream",
     "text": [
      "New joint velocities: [ 1.2634423  -0.72460333  0.76124829  2.13172791  0.20506373 -3.21841678]\n"
     ]
    }
   ],
   "source": [
    "\n",
    "# Define joint limits\n",
    "limits = ConfigurationLimit(model)\n",
    "\n",
    "# Solve IK\n",
    "new_q = solve_ik(\n",
    "    configuration=configuration,\n",
    "    tasks=[frame_task],          # Pass as list\n",
    "    dt=1.0,\n",
    "    solver='osqp',\n",
    "    damping=1e-4,\n",
    "    safety_break=True,\n",
    "    limits=[limits]              # Must be passed as list\n",
    ")\n",
    "\n",
    "print(\"New joint velocities:\", new_q)"
   ]
  }
 ],
 "metadata": {
  "kernelspec": {
   "display_name": "custom_env",
   "language": "python",
   "name": "python3"
  },
  "language_info": {
   "codemirror_mode": {
    "name": "ipython",
    "version": 3
   },
   "file_extension": ".py",
   "mimetype": "text/x-python",
   "name": "python",
   "nbconvert_exporter": "python",
   "pygments_lexer": "ipython3",
   "version": "3.12.3"
  }
 },
 "nbformat": 4,
 "nbformat_minor": 5
}
