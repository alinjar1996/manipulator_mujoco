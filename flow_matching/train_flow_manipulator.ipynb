{
 "cells": [
  {
   "cell_type": "code",
   "execution_count": 63,
   "metadata": {},
   "outputs": [
    {
     "name": "stdout",
     "output_type": "stream",
     "text": [
      "/home/alinjar/manipulator/manipulator_mujoco/flow_matching\n"
     ]
    }
   ],
   "source": [
    "import numpy as np\n",
    "import torch \n",
    "torch._dynamo.config.suppress_errors = True\n",
    "torch._dynamo.disable()\n",
    "from tqdm import tqdm,trange    \n",
    "from torch import Tensor\n",
    "from torch.utils.data import Dataset, DataLoader, random_split\n",
    "\n",
    "import matplotlib.pyplot as plt\n",
    "# from torch.utils.tensorboard import SummaryWriter\n",
    "\n",
    "import os\n",
    "\n",
    "print(os.getcwd())  \n",
    "\n",
    "from flow_model_manipulator import Flow\n",
    "import open3d as o3d\n",
    "\n",
    "weights_dir = \"../flow_training_weights\"\n",
    "opts_dir = \"../flow_training_opts\"\n",
    "os.makedirs(weights_dir, exist_ok=True)\n",
    "os.makedirs(opts_dir, exist_ok=True)\n",
    "\n"
   ]
  },
  {
   "cell_type": "code",
   "execution_count": 64,
   "metadata": {},
   "outputs": [],
   "source": [
    "\n",
    "\n",
    "torch.set_float32_matmul_precision('high')\n",
    "\n",
    "# writer = SummaryWriter(\"./logs\")\n",
    "test = 'manipulator'"
   ]
  },
  {
   "cell_type": "code",
   "execution_count": 65,
   "metadata": {},
   "outputs": [],
   "source": [
    "BATCH_SIZE      = 500\n",
    "LEARNING_RATE   = 1e-2\n",
    "SEED            = 0\n",
    "DEVICE          = 'cuda'      \n",
    "NUM_EPOCH       = 2000"
   ]
  },
  {
   "cell_type": "code",
   "execution_count": 66,
   "metadata": {},
   "outputs": [],
   "source": [
    "torch.manual_seed(seed=SEED)\n",
    "torch.cuda.manual_seed(seed=SEED)"
   ]
  },
  {
   "cell_type": "code",
   "execution_count": 67,
   "metadata": {},
   "outputs": [],
   "source": [
    "class TrajDataset(Dataset):\n",
    "    def __init__(self, theta_init_data, thetadot_init_data, target_pos_data, target_quat_data, index_data):\n",
    "        \n",
    "        # goal\n",
    "        self.theta_init = theta_init_data\n",
    "        self.thetadot_init = thetadot_init_data\n",
    "        self.target_pos = target_pos_data\n",
    "        self.target_quat = target_quat_data\n",
    "\n",
    "\n",
    "        self.index = index_data\n",
    "        \n",
    "    \n",
    "    def __len__(self):\n",
    "        return len(self.theta_init)    \n",
    "            \n",
    "    def __getitem__(self, idx):\n",
    "\n",
    "        theta_init = self.theta_init[idx]\n",
    "        thetadot_init = self.thetadot_init[idx]\n",
    "        target_pos = self.target_pos[idx]\n",
    "        target_quat = self.target_quat[idx]\n",
    "        index = self.index[idx]\n",
    "                 \n",
    "        return torch.tensor(theta_init).float(), torch.tensor(thetadot_init).float(), torch.tensor(target_pos).float(), \\\n",
    "            torch.tensor(target_quat).float(), index"
   ]
  },
  {
   "cell_type": "code",
   "execution_count": 68,
   "metadata": {},
   "outputs": [
    {
     "name": "stdout",
     "output_type": "stream",
     "text": [
      "/home/alinjar/manipulator/manipulator_mujoco\n"
     ]
    }
   ],
   "source": [
    "\n",
    "\n",
    "# One step behind the current working directory\n",
    "parent_dir = os.path.abspath(os.path.join(os.getcwd(), os.pardir))\n",
    "\n",
    "print(parent_dir)\n"
   ]
  },
  {
   "cell_type": "code",
   "execution_count": 69,
   "metadata": {},
   "outputs": [
    {
     "name": "stdout",
     "output_type": "stream",
     "text": [
      "/home/alinjar/manipulator/manipulator_mujoco/custom_data_['target_2']_inference_False\n"
     ]
    }
   ],
   "source": [
    "\n",
    "\n",
    "# Build relative paths from parent directory\n",
    "data_dir = os.path.join(parent_dir, \"custom_data_['target_2']_inference_False\")\n",
    "pcd_dir = os.path.join(parent_dir, \"pcd_data\")\n",
    "\n",
    "print(data_dir)\n"
   ]
  },
  {
   "cell_type": "code",
   "execution_count": 70,
   "metadata": {},
   "outputs": [
    {
     "name": "stdout",
     "output_type": "stream",
     "text": [
      "torch.Size([307200, 3, 1])\n",
      "(106, 6)\n",
      "(106, 6)\n",
      "(106, 3)\n",
      "(106, 4)\n"
     ]
    }
   ],
   "source": [
    "# Load the data\n",
    "\n",
    "theta_init_data = np.loadtxt(os.path.join(data_dir, \"theta.csv\"), delimiter=\",\")\n",
    "thetadot_init_data = np.loadtxt(os.path.join(data_dir, \"thetadot.csv\"), delimiter=\",\")\n",
    "target_pos_data = np.loadtxt(os.path.join(data_dir, \"target_positions.csv\"), delimiter=\",\")\n",
    "target_quat_data = np.loadtxt(os.path.join(data_dir, \"target_quaternions.csv\"), delimiter=\",\")\n",
    "index_data = np.loadtxt(os.path.join(data_dir, \"index.csv\"), delimiter=\",\")\n",
    "\n",
    "\n",
    "\n",
    "pcd_path = os.path.join(pcd_dir, \"output_scene_without_robot_unpacked_rgb.pcd\")\n",
    "pcd = o3d.io.read_point_cloud(pcd_path)\n",
    "\n",
    "# points = np.asarray(pcd.points)       # XYZ points\n",
    "# colors = np.asarray(pcd.colors)       # RGB (if present)\n",
    "\n",
    "# Convert Open3D point cloud to a NumPy array\n",
    "pcd_np = np.asarray(pcd.points)\n",
    "\n",
    "# Then convert to PyTorch tensor (and move to the correct device)\n",
    "\n",
    "pcd_tensor = torch.tensor(pcd_np.T, dtype=torch.float32, device=DEVICE).unsqueeze(0)  # shape: [1, 3, length(pcd)]\n",
    "pcd_tensor = pcd_tensor.permute(2, 1, 0)  # shape: [length(pcd), 3, 1]\n",
    "\n",
    "\n",
    "\n",
    "print(pcd_tensor.shape)\n",
    "# print(colors.shape)\n",
    "\n",
    "print(theta_init_data.shape)\n",
    "print(thetadot_init_data.shape)\n",
    "print(target_pos_data.shape)\n",
    "print(target_quat_data.shape)\n"
   ]
  },
  {
   "cell_type": "code",
   "execution_count": 71,
   "metadata": {},
   "outputs": [],
   "source": [
    "theta_init_mean, theta_init_std = torch.tensor(theta_init_data.mean()).to(DEVICE), torch.tensor(theta_init_data.std()).to(DEVICE)\n",
    "thetadot_init_mean, thetadot_init_std = torch.tensor(thetadot_init_data.mean()).to(DEVICE), torch.tensor(thetadot_init_data.std()).to(DEVICE)\n",
    "target_pos_mean, target_pos_std = torch.tensor(target_pos_data.mean()).to(DEVICE), torch.tensor(target_pos_data.std()).to(DEVICE)\n",
    "target_quat_mean, target_quat_std = torch.tensor(target_quat_data.mean()).to(DEVICE), torch.tensor(target_quat_data.std()).to(DEVICE)\n"
   ]
  },
  {
   "cell_type": "code",
   "execution_count": 72,
   "metadata": {},
   "outputs": [
    {
     "name": "stdout",
     "output_type": "stream",
     "text": [
      "len(dataset) 106\n"
     ]
    }
   ],
   "source": [
    "dataset = TrajDataset(theta_init_data, thetadot_init_data, target_pos_data, target_quat_data, index_data)\n",
    "print(\"len(dataset)\", len(dataset))\n",
    "\n",
    "train_size = int(0.9 * len(dataset))  \n",
    "test_size = len(dataset) - train_size  \n",
    "\n",
    "# Create a generator with a fixed seed\n",
    "generator = torch.Generator().manual_seed(0)\n",
    "\n",
    "train_dataset, test_dataset = random_split(dataset, [train_size, test_size], generator=generator)\n",
    "test_loader = DataLoader(test_dataset, batch_size=BATCH_SIZE, shuffle=True, drop_last=False)\n",
    "train_loader = DataLoader(train_dataset, batch_size=BATCH_SIZE, shuffle=True, drop_last=False)\n",
    "\n",
    "out_chan = 512\n",
    "\n",
    "flow = Flow(out_chan,theta_init_mean,theta_init_std, thetadot_init_mean, theta_init_std, target_pos_mean, target_pos_std,\n",
    "            target_quat_mean, target_quat_std).cuda()\n",
    "\n",
    "loss_fn = torch.nn.MSELoss()\n",
    "optimizer = torch.optim.AdamW(flow.parameters(), lr=LEARNING_RATE)"
   ]
  },
  {
   "cell_type": "code",
   "execution_count": 73,
   "metadata": {},
   "outputs": [],
   "source": [
    "flow.train()\n",
    "c_flow = torch.compile(flow)\n"
   ]
  },
  {
   "cell_type": "code",
   "execution_count": 74,
   "metadata": {},
   "outputs": [
    {
     "name": "stderr",
     "output_type": "stream",
     "text": [
      "100%|██████████| 1/1 [00:00<00:00, 33.45it/s]"
     ]
    },
    {
     "name": "stdout",
     "output_type": "stream",
     "text": [
      "Epoch: 1, Train Loss: 2.124\n"
     ]
    },
    {
     "name": "stderr",
     "output_type": "stream",
     "text": [
      "\n",
      "100%|██████████| 1/1 [00:00<00:00, 35.41it/s]\n",
      "100%|██████████| 1/1 [00:00<00:00, 30.64it/s]\n",
      "100%|██████████| 1/1 [00:00<00:00, 33.21it/s]\n",
      "100%|██████████| 1/1 [00:00<00:00, 32.26it/s]\n",
      "100%|██████████| 1/1 [00:00<00:00, 32.46it/s]\n"
     ]
    },
    {
     "name": "stdout",
     "output_type": "stream",
     "text": [
      "Epoch: 6, Train Loss: 3.830\n"
     ]
    },
    {
     "name": "stderr",
     "output_type": "stream",
     "text": [
      "100%|██████████| 1/1 [00:00<00:00, 35.25it/s]\n",
      "100%|██████████| 1/1 [00:00<00:00, 36.56it/s]\n",
      "100%|██████████| 1/1 [00:00<00:00, 32.29it/s]\n",
      "100%|██████████| 1/1 [00:00<00:00, 31.89it/s]\n",
      "100%|██████████| 1/1 [00:00<00:00, 31.73it/s]\n"
     ]
    },
    {
     "name": "stdout",
     "output_type": "stream",
     "text": [
      "Epoch: 11, Train Loss: 2.515\n"
     ]
    },
    {
     "name": "stderr",
     "output_type": "stream",
     "text": [
      "100%|██████████| 1/1 [00:00<00:00, 33.43it/s]\n",
      "100%|██████████| 1/1 [00:00<00:00, 33.69it/s]\n",
      "100%|██████████| 1/1 [00:00<00:00, 32.13it/s]\n",
      "100%|██████████| 1/1 [00:00<00:00, 32.88it/s]\n",
      "100%|██████████| 1/1 [00:00<00:00, 31.37it/s]\n"
     ]
    },
    {
     "name": "stdout",
     "output_type": "stream",
     "text": [
      "Epoch: 16, Train Loss: 2.595\n"
     ]
    },
    {
     "name": "stderr",
     "output_type": "stream",
     "text": [
      "100%|██████████| 1/1 [00:00<00:00, 30.39it/s]\n",
      "100%|██████████| 1/1 [00:00<00:00, 32.84it/s]\n",
      "100%|██████████| 1/1 [00:00<00:00, 31.51it/s]\n",
      "100%|██████████| 1/1 [00:00<00:00, 35.12it/s]\n",
      "100%|██████████| 1/1 [00:00<00:00, 33.50it/s]\n"
     ]
    },
    {
     "name": "stdout",
     "output_type": "stream",
     "text": [
      "Epoch: 21, Train Loss: 1.926\n"
     ]
    },
    {
     "name": "stderr",
     "output_type": "stream",
     "text": [
      "100%|██████████| 1/1 [00:00<00:00, 31.98it/s]\n",
      "100%|██████████| 1/1 [00:00<00:00, 29.98it/s]\n",
      "100%|██████████| 1/1 [00:00<00:00, 31.76it/s]\n",
      "100%|██████████| 1/1 [00:00<00:00, 32.24it/s]\n",
      "100%|██████████| 1/1 [00:00<00:00, 31.81it/s]\n"
     ]
    },
    {
     "name": "stdout",
     "output_type": "stream",
     "text": [
      "Epoch: 26, Train Loss: 1.603\n"
     ]
    },
    {
     "name": "stderr",
     "output_type": "stream",
     "text": [
      "100%|██████████| 1/1 [00:00<00:00, 32.14it/s]\n",
      "100%|██████████| 1/1 [00:00<00:00, 31.89it/s]\n",
      "100%|██████████| 1/1 [00:00<00:00, 32.61it/s]\n",
      "100%|██████████| 1/1 [00:00<00:00, 31.13it/s]\n",
      "100%|██████████| 1/1 [00:00<00:00, 34.61it/s]\n"
     ]
    },
    {
     "name": "stdout",
     "output_type": "stream",
     "text": [
      "Epoch: 31, Train Loss: 1.457\n"
     ]
    },
    {
     "name": "stderr",
     "output_type": "stream",
     "text": [
      "100%|██████████| 1/1 [00:00<00:00, 32.96it/s]\n",
      "100%|██████████| 1/1 [00:00<00:00, 32.87it/s]\n",
      "100%|██████████| 1/1 [00:00<00:00, 32.09it/s]\n",
      "100%|██████████| 1/1 [00:00<00:00, 29.72it/s]\n",
      "100%|██████████| 1/1 [00:00<00:00, 32.47it/s]\n"
     ]
    },
    {
     "name": "stdout",
     "output_type": "stream",
     "text": [
      "Epoch: 36, Train Loss: 1.273\n"
     ]
    },
    {
     "name": "stderr",
     "output_type": "stream",
     "text": [
      "100%|██████████| 1/1 [00:00<00:00, 31.41it/s]\n",
      "100%|██████████| 1/1 [00:00<00:00, 32.63it/s]\n",
      "100%|██████████| 1/1 [00:00<00:00, 35.69it/s]\n",
      "100%|██████████| 1/1 [00:00<00:00, 31.18it/s]\n",
      "100%|██████████| 1/1 [00:00<00:00, 30.71it/s]\n"
     ]
    },
    {
     "name": "stdout",
     "output_type": "stream",
     "text": [
      "Epoch: 41, Train Loss: 1.268\n"
     ]
    },
    {
     "name": "stderr",
     "output_type": "stream",
     "text": [
      "100%|██████████| 1/1 [00:00<00:00, 31.71it/s]\n",
      "100%|██████████| 1/1 [00:00<00:00, 33.21it/s]\n",
      "100%|██████████| 1/1 [00:00<00:00, 29.58it/s]\n",
      "100%|██████████| 1/1 [00:00<00:00, 32.16it/s]\n",
      "100%|██████████| 1/1 [00:00<00:00, 36.05it/s]\n"
     ]
    },
    {
     "name": "stdout",
     "output_type": "stream",
     "text": [
      "Epoch: 46, Train Loss: 1.152\n"
     ]
    },
    {
     "name": "stderr",
     "output_type": "stream",
     "text": [
      "100%|██████████| 1/1 [00:00<00:00, 30.97it/s]\n",
      "100%|██████████| 1/1 [00:00<00:00, 30.99it/s]\n",
      "100%|██████████| 1/1 [00:00<00:00, 30.86it/s]\n",
      "100%|██████████| 1/1 [00:00<00:00, 32.28it/s]\n",
      "100%|██████████| 1/1 [00:00<00:00, 32.74it/s]\n"
     ]
    },
    {
     "name": "stdout",
     "output_type": "stream",
     "text": [
      "Epoch: 51, Train Loss: 1.161\n"
     ]
    },
    {
     "name": "stderr",
     "output_type": "stream",
     "text": [
      "100%|██████████| 1/1 [00:00<00:00, 28.81it/s]\n",
      "100%|██████████| 1/1 [00:00<00:00, 33.14it/s]\n",
      "100%|██████████| 1/1 [00:00<00:00, 33.42it/s]\n",
      "100%|██████████| 1/1 [00:00<00:00, 36.11it/s]\n",
      "100%|██████████| 1/1 [00:00<00:00, 29.94it/s]\n"
     ]
    },
    {
     "name": "stdout",
     "output_type": "stream",
     "text": [
      "Epoch: 56, Train Loss: 1.225\n"
     ]
    },
    {
     "name": "stderr",
     "output_type": "stream",
     "text": [
      "100%|██████████| 1/1 [00:00<00:00, 36.22it/s]\n",
      "100%|██████████| 1/1 [00:00<00:00, 31.12it/s]\n",
      "100%|██████████| 1/1 [00:00<00:00, 30.69it/s]\n",
      "100%|██████████| 1/1 [00:00<00:00, 28.57it/s]\n",
      "100%|██████████| 1/1 [00:00<00:00, 31.17it/s]\n"
     ]
    },
    {
     "name": "stdout",
     "output_type": "stream",
     "text": [
      "Epoch: 61, Train Loss: 1.110\n"
     ]
    },
    {
     "name": "stderr",
     "output_type": "stream",
     "text": [
      "100%|██████████| 1/1 [00:00<00:00, 30.53it/s]\n",
      "100%|██████████| 1/1 [00:00<00:00, 32.40it/s]\n",
      "100%|██████████| 1/1 [00:00<00:00, 31.77it/s]\n",
      "100%|██████████| 1/1 [00:00<00:00, 31.93it/s]\n",
      "100%|██████████| 1/1 [00:00<00:00, 31.00it/s]\n"
     ]
    },
    {
     "name": "stdout",
     "output_type": "stream",
     "text": [
      "Epoch: 66, Train Loss: 1.098\n"
     ]
    },
    {
     "name": "stderr",
     "output_type": "stream",
     "text": [
      "100%|██████████| 1/1 [00:00<00:00, 32.75it/s]\n",
      "100%|██████████| 1/1 [00:00<00:00, 32.36it/s]\n",
      "100%|██████████| 1/1 [00:00<00:00, 30.73it/s]\n",
      "100%|██████████| 1/1 [00:00<00:00, 32.42it/s]\n",
      "100%|██████████| 1/1 [00:00<00:00, 32.33it/s]\n"
     ]
    },
    {
     "name": "stdout",
     "output_type": "stream",
     "text": [
      "Epoch: 71, Train Loss: 1.122\n"
     ]
    },
    {
     "name": "stderr",
     "output_type": "stream",
     "text": [
      "100%|██████████| 1/1 [00:00<00:00, 31.08it/s]\n",
      "100%|██████████| 1/1 [00:00<00:00, 30.23it/s]\n",
      "100%|██████████| 1/1 [00:00<00:00, 31.59it/s]\n",
      "100%|██████████| 1/1 [00:00<00:00, 31.66it/s]\n",
      "100%|██████████| 1/1 [00:00<00:00, 31.80it/s]\n"
     ]
    },
    {
     "name": "stdout",
     "output_type": "stream",
     "text": [
      "Epoch: 76, Train Loss: 1.038\n"
     ]
    },
    {
     "name": "stderr",
     "output_type": "stream",
     "text": [
      "100%|██████████| 1/1 [00:00<00:00, 33.08it/s]\n",
      "100%|██████████| 1/1 [00:00<00:00, 32.13it/s]\n",
      "100%|██████████| 1/1 [00:00<00:00, 28.54it/s]\n",
      "100%|██████████| 1/1 [00:00<00:00, 33.42it/s]\n",
      "100%|██████████| 1/1 [00:00<00:00, 33.70it/s]\n"
     ]
    },
    {
     "name": "stdout",
     "output_type": "stream",
     "text": [
      "Epoch: 81, Train Loss: 1.085\n"
     ]
    },
    {
     "name": "stderr",
     "output_type": "stream",
     "text": [
      "100%|██████████| 1/1 [00:00<00:00, 29.11it/s]\n",
      "100%|██████████| 1/1 [00:00<00:00, 32.31it/s]\n",
      "100%|██████████| 1/1 [00:00<00:00, 32.67it/s]\n",
      "100%|██████████| 1/1 [00:00<00:00, 32.47it/s]\n",
      "100%|██████████| 1/1 [00:00<00:00, 32.42it/s]\n"
     ]
    },
    {
     "name": "stdout",
     "output_type": "stream",
     "text": [
      "Epoch: 86, Train Loss: 1.083\n"
     ]
    },
    {
     "name": "stderr",
     "output_type": "stream",
     "text": [
      "100%|██████████| 1/1 [00:00<00:00, 30.82it/s]\n",
      "100%|██████████| 1/1 [00:00<00:00, 30.27it/s]\n",
      "100%|██████████| 1/1 [00:00<00:00, 30.70it/s]\n",
      "100%|██████████| 1/1 [00:00<00:00, 32.25it/s]\n",
      "100%|██████████| 1/1 [00:00<00:00, 32.26it/s]\n"
     ]
    },
    {
     "name": "stdout",
     "output_type": "stream",
     "text": [
      "Epoch: 91, Train Loss: 1.105\n"
     ]
    },
    {
     "name": "stderr",
     "output_type": "stream",
     "text": [
      "100%|██████████| 1/1 [00:00<00:00, 34.00it/s]\n",
      "100%|██████████| 1/1 [00:00<00:00, 31.52it/s]\n",
      "100%|██████████| 1/1 [00:00<00:00, 31.52it/s]\n",
      "100%|██████████| 1/1 [00:00<00:00, 30.35it/s]\n",
      "100%|██████████| 1/1 [00:00<00:00, 28.58it/s]\n"
     ]
    },
    {
     "name": "stdout",
     "output_type": "stream",
     "text": [
      "Epoch: 96, Train Loss: 1.027\n"
     ]
    },
    {
     "name": "stderr",
     "output_type": "stream",
     "text": [
      "100%|██████████| 1/1 [00:00<00:00, 34.33it/s]\n",
      "100%|██████████| 1/1 [00:00<00:00, 32.29it/s]\n",
      "100%|██████████| 1/1 [00:00<00:00, 30.71it/s]\n",
      "100%|██████████| 1/1 [00:00<00:00, 31.86it/s]\n"
     ]
    }
   ],
   "source": [
    "\n",
    "avg_losses = []\n",
    "last_loss = torch.inf\n",
    "\n",
    "NUM_EPOCH = 100\n",
    "for epoch in range(NUM_EPOCH):\n",
    "\tlosses = []\n",
    "\t\n",
    "\tfor (theta_init,thetadot_init, target_pos, target_quat, index) in tqdm(train_loader):\n",
    "\n",
    "\n",
    "\t\ttheta_init = theta_init.to(DEVICE)\n",
    "\t\tthetadot_init = thetadot_init.to(DEVICE)\n",
    "\t\ttarget_pos = target_pos.to(DEVICE)\n",
    "\t\ttarget_quat = target_quat.to(DEVICE)\n",
    "\n",
    "\n",
    "\t\tmotion_data = torch.cat([theta_init, thetadot_init, target_pos, target_quat], dim=-1)  # or dim=1\n",
    "\t\tx_1 = motion_data\n",
    "\n",
    "\t\tx_0 = torch.randn_like(x_1)\n",
    "\t\tt = torch.rand(len(x_1), 1, 1).to(device=DEVICE)\n",
    "\t\tx_t = (1 - t) * x_0 + t * x_1\n",
    "\t\tdx_t = x_1 - x_0\n",
    "\t\n",
    "\t\tloss = loss_fn(c_flow(x_t, motion_data, t, pcd_tensor), dx_t)\n",
    "\t\tlosses.append(loss.item())\n",
    "\n",
    "\t\toptimizer.zero_grad()\n",
    "\t\tloss.backward()\n",
    "\t\toptimizer.step()\n",
    "\n",
    "\n",
    "\tmean_loss = np.mean(losses)\n",
    "\tavg_losses.append(mean_loss)\n",
    "\t# scheduler.step()\n",
    "\n",
    "\tif epoch % 5 == 0:\n",
    "\t\tprint(f\"Epoch: {epoch + 1}, Train Loss: {mean_loss:.3f}\")\n",
    "\t#writer.add_scalar('test_{}'.format(test), loss, epoch)\n",
    "\n",
    "\tif loss <= last_loss:\n",
    "\t\t# torch.save(flow.state_dict(), f\"./weights/test_{test}_lowest.pt\")\n",
    "\t\t# torch.save(optimizer.state_dict(), f\"./opts/test_{test}_lowest.pt\")\n",
    "\t\ttorch.save(flow.state_dict(), f\"{weights_dir}/test_{test}.pt\")\n",
    "\t\ttorch.save(optimizer.state_dict(), f\"{opts_dir}/test_{test}.pt\")\n",
    "\t\tlast_loss = loss"
   ]
  },
  {
   "cell_type": "code",
   "execution_count": 75,
   "metadata": {},
   "outputs": [
    {
     "data": {
      "image/png": "[encoded data removed]",
      "text/plain": [
       "<Figure size 640x480 with 1 Axes>"
      ]
     },
     "metadata": {},
     "output_type": "display_data"
    }
   ],
   "source": [
    "%matplotlib inline\n",
    "plt.Figure()\n",
    "plt.plot(avg_losses)\n",
    "plt.show()"
   ]
  }
 ],
 "metadata": {
  "kernelspec": {
   "display_name": "custom_env",
   "language": "python",
   "name": "python3"
  },
  "language_info": {
   "codemirror_mode": {
    "name": "ipython",
    "version": 3
   },
   "file_extension": ".py",
   "mimetype": "text/x-python",
   "name": "python",
   "nbconvert_exporter": "python",
   "pygments_lexer": "ipython3",
   "version": "3.12.3"
  }
 },
 "nbformat": 4,
 "nbformat_minor": 2
}
