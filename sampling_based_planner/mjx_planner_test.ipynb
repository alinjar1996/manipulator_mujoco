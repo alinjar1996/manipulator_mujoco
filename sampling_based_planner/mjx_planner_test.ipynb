{
 "cells": [
  {
   "cell_type": "code",
   "execution_count": 288,
   "id": "4d37a10a",
   "metadata": {},
   "outputs": [],
   "source": [
    "#Delete this code  when you are done with the notebook\n",
    "\n"
   ]
  },
  {
   "cell_type": "code",
   "execution_count": 289,
   "id": "de37fa58",
   "metadata": {},
   "outputs": [],
   "source": [
    "\n",
    "import os\n",
    "\n",
    "xla_flags = os.environ.get('XLA_FLAGS', '')\n",
    "xla_flags += ' --xla_gpu_triton_gemm_any=True'\n",
    "os.environ['XLA_FLAGS'] = xla_flags\n",
    "\n",
    "import bernstein_coeff_order10_arbitinterval, bernstein_coeff_ordern_arbitinterval\n",
    "from functools import partial\n",
    "import numpy as np\n",
    "import jax.numpy as jnp\n",
    "import mujoco\n",
    "import mujoco.mjx as mjx \n",
    "import jax\n",
    "import time\n",
    "\n",
    "from mjx_planner import cem_planner\n"
   ]
  },
  {
   "cell_type": "code",
   "execution_count": 290,
   "id": "cfdfd5f3",
   "metadata": {},
   "outputs": [],
   "source": [
    "np.set_printoptions(precision=2, suppress=True, linewidth=150)\n"
   ]
  },
  {
   "cell_type": "code",
   "execution_count": 291,
   "id": "d4d84beb",
   "metadata": {},
   "outputs": [
    {
     "name": "stdout",
     "output_type": "stream",
     "text": [
      "ngeomm 42\n",
      "167 / 195 contacts involve considered geoms.\n",
      "\n",
      " Default backend: gpu\n",
      " Model path: /home/alinjar/manipulator/manipulator_mujoco/sampling_based_planner/ur5e_hande_mjx/scene.xml \n",
      " Timestep: 0.05 \n",
      " CEM Iter: 1 \n",
      " Projection Iter: 5 \n",
      " Number of batches: 5 \n",
      " Number of steps per trajectory: 3 \n",
      " Time per trajectory: 0.15000000000000002 \n",
      " Number of variables: 6 \n",
      " Number of Total constraints: 36 \n",
      " Number of geomteric IDs for colllision: 10\n"
     ]
    }
   ],
   "source": [
    "num_dof = 2\n",
    "num_batch = 5\n",
    "num_steps = 3\n",
    "maxiter_projection = 5\n",
    "maxiter_cem = 1\n",
    "w_pos = 1\n",
    "w_rot = 0.5\n",
    "w_col = 10\n",
    "num_elite = 0.05\n",
    "timestep = 0.05\n",
    "max_joint_pos = np.pi \n",
    "max_joint_vel=1.0\n",
    "max_joint_acc=2.0\n",
    "max_joint_jerk=4.0\n",
    "\n",
    "start_time = time.time()\n",
    "#opt_class = cem_planner(num_dof, num_batch, w_pos=3, num_elite=0.1, maxiter_cem=30)\t\n",
    "opt_class = cem_planner(num_dof=num_dof, num_batch=num_batch, num_steps=num_steps, maxiter_cem=maxiter_cem,\n",
    "                        w_pos=w_pos, w_rot=w_rot, w_col=w_col, num_elite=num_elite, timestep=timestep,\n",
    "                        maxiter_projection=maxiter_projection,\n",
    "                        max_joint_pos = max_joint_pos, max_joint_vel=max_joint_vel, max_joint_acc=max_joint_acc, \n",
    "                        max_joint_jerk=max_joint_jerk)\n",
    "\n",
    "\n",
    "# start_time_comp_cem = time.time()\n",
    "\n"
   ]
  },
  {
   "cell_type": "code",
   "execution_count": 292,
   "id": "2bdcb118",
   "metadata": {},
   "outputs": [
    {
     "name": "stdout",
     "output_type": "stream",
     "text": [
      "ngeomm 42\n",
      "167 / 195 contacts involve considered geoms.\n",
      "\n",
      " Default backend: gpu\n",
      " Model path: /home/alinjar/manipulator/manipulator_mujoco/sampling_based_planner/ur5e_hande_mjx/scene.xml \n",
      " Timestep: 0.05 \n",
      " CEM Iter: 1 \n",
      " Projection Iter: 5 \n",
      " Number of batches: 5 \n",
      " Number of steps per trajectory: 3 \n",
      " Time per trajectory: 0.15000000000000002 \n",
      " Number of variables: 3 \n",
      " Number of Total constraints: 18 \n",
      " Number of geomteric IDs for colllision: 10\n"
     ]
    }
   ],
   "source": [
    "num_dof = 1\n",
    "\n",
    "\n",
    "start_time = time.time()\n",
    "#opt_class = cem_planner(num_dof, num_batch, w_pos=3, num_elite=0.1, maxiter_cem=30)\t\n",
    "opt_class_ = cem_planner(num_dof=num_dof, num_batch=num_batch, num_steps=num_steps, maxiter_cem=maxiter_cem,\n",
    "                        w_pos=w_pos, w_rot=w_rot, w_col=w_col, num_elite=num_elite, timestep=timestep,\n",
    "                        maxiter_projection=maxiter_projection,\n",
    "                        max_joint_pos = max_joint_pos, max_joint_vel=max_joint_vel, max_joint_acc=max_joint_acc, \n",
    "                        max_joint_jerk=max_joint_jerk)\n",
    "\n"
   ]
  },
  {
   "cell_type": "code",
   "execution_count": 293,
   "id": "7bb99599",
   "metadata": {},
   "outputs": [
    {
     "name": "stdout",
     "output_type": "stream",
     "text": [
      "(12, 6)\n",
      "(6, 3)\n",
      "A_v_ineq [[ 1.  0.  0.  0.  0.  0.]\n",
      " [ 0.  1.  0.  0.  0.  0.]\n",
      " [ 0.  0.  1.  0.  0.  0.]\n",
      " [-1. -0. -0. -0. -0. -0.]\n",
      " [-0. -1. -0. -0. -0. -0.]\n",
      " [-0. -0. -1. -0. -0. -0.]\n",
      " [ 0.  0.  0.  1.  0.  0.]\n",
      " [ 0.  0.  0.  0.  1.  0.]\n",
      " [ 0.  0.  0.  0.  0.  1.]\n",
      " [-0. -0. -0. -1. -0. -0.]\n",
      " [-0. -0. -0. -0. -1. -0.]\n",
      " [-0. -0. -0. -0. -0. -1.]]\n",
      "A_v_ineq [[ 1.  0.  0.]\n",
      " [ 0.  1.  0.]\n",
      " [ 0.  0.  1.]\n",
      " [-1. -0. -0.]\n",
      " [-0. -1. -0.]\n",
      " [-0. -0. -1.]]\n"
     ]
    }
   ],
   "source": [
    "\n",
    "\n",
    "print(opt_class.A_v_ineq.shape)\n",
    "print(opt_class_.A_v_ineq.shape) \n",
    "\n",
    "print( \"A_v_ineq\", opt_class.A_v_ineq)\n",
    "print(\"A_v_ineq\", opt_class_.A_v_ineq) "
   ]
  },
  {
   "cell_type": "code",
   "execution_count": 294,
   "id": "6eb37da6",
   "metadata": {},
   "outputs": [
    {
     "name": "stdout",
     "output_type": "stream",
     "text": [
      "\n",
      " Default backend: gpu\n",
      " Model path: /home/alinjar/manipulator/manipulator_mujoco/sampling_based_planner/ur5e_hande_mjx/scene.xml \n",
      " Timestep: 0.05 \n",
      " CEM Iter: 1 \n",
      " Projection Iter: 5 \n",
      " Number of batches: 5 \n",
      " Number of steps per trajectory: 3 \n",
      " Time per trajectory: 0.15000000000000002 \n",
      " Number of variables: 6 \n",
      " Number of Total constraints: 36 \n",
      " Number of geomteric IDs for colllision: 10\n",
      "167 / 195 contacts involve robot.\n"
     ]
    }
   ],
   "source": [
    "from mjx_planner_batch_dof import cem_planner\n",
    "\n",
    "num_dof = 2\n",
    "\n",
    "\n",
    "start_time = time.time()\n",
    "#opt_class = cem_planner(num_dof, num_batch, w_pos=3, num_elite=0.1, maxiter_cem=30)\t\n",
    "opt_class_batch_dof = cem_planner(num_dof=num_dof, num_batch=num_batch, num_steps=num_steps, maxiter_cem=maxiter_cem,\n",
    "                        w_pos=w_pos, w_rot=w_rot, w_col=w_col, num_elite=num_elite, timestep=timestep,\n",
    "                        maxiter_projection=maxiter_projection,\n",
    "                        max_joint_pos = max_joint_pos, max_joint_vel=max_joint_vel, max_joint_acc=max_joint_acc, \n",
    "                        max_joint_jerk=max_joint_jerk)"
   ]
  },
  {
   "cell_type": "code",
   "execution_count": 295,
   "id": "960ae214",
   "metadata": {},
   "outputs": [
    {
     "name": "stdout",
     "output_type": "stream",
     "text": [
      "(36, 6)\n",
      "(18, 3)\n",
      "opt_class dof 2\n",
      "opt_class_ dof 1\n",
      "[[ 320802. -640800.  320000.       0.       0.       0.]\n",
      " [-640800. 1281602. -640800.       0.       0.       0.]\n",
      " [ 320000. -640800.  320802.       0.       0.       0.]\n",
      " [      0.       0.       0.  320802. -640800.  320000.]\n",
      " [      0.       0.       0. -640800. 1281602. -640800.]\n",
      " [      0.       0.       0.  320000. -640800.  320802.]]\n",
      "[[ 320802. -640800.  320000.]\n",
      " [-640800. 1281602. -640800.]\n",
      " [ 320000. -640800.  320802.]]\n",
      "[[0. 0. 0.]\n",
      " [0. 0. 0.]\n",
      " [0. 0. 0.]]\n"
     ]
    }
   ],
   "source": [
    "print(opt_class.A_control.shape)\n",
    "print(opt_class_.A_control.shape) \n",
    "\n",
    "# print( \"A_control\", opt_class.A_control)\n",
    "# print(\"A_control\", opt_class_.A_control) \n",
    "print(f\"opt_class dof {opt_class.num_dof}\")\n",
    "print(f\"opt_class_ dof {opt_class_.num_dof}\")\n",
    "\n",
    "#\n",
    "x= opt_class.A_control.T@opt_class.A_control\n",
    "x_ = opt_class_.A_control.T@opt_class_.A_control\n",
    "\n",
    "print(x)\n",
    "print(x_)\n",
    "x_error = x[0:opt_class.num, 0:opt_class.num] - x_\n",
    "print(x_error)"
   ]
  },
  {
   "cell_type": "code",
   "execution_count": 296,
   "id": "a656a54c",
   "metadata": {},
   "outputs": [
    {
     "name": "stdout",
     "output_type": "stream",
     "text": [
      "opt_class_batch_dof 2\n"
     ]
    }
   ],
   "source": [
    "print(f\"opt_class_batch_dof {opt_class_batch_dof.num_dof}\")\n",
    "\n"
   ]
  },
  {
   "cell_type": "code",
   "execution_count": 297,
   "id": "fbded794",
   "metadata": {},
   "outputs": [
    {
     "name": "stdout",
     "output_type": "stream",
     "text": [
      "(6, 6)\n",
      "(3, 3)\n",
      "opt_class dof 2\n",
      "opt_class_ dof 1\n",
      "[[ 320803. -640800.  320000.       0.       0.       0.]\n",
      " [-640800. 1281603. -640800.       0.       0.       0.]\n",
      " [ 320000. -640800.  320803.       0.       0.       0.]\n",
      " [      0.       0.       0.  320803. -640800.  320000.]\n",
      " [      0.       0.       0. -640800. 1281603. -640800.]\n",
      " [      0.       0.       0.  320000. -640800.  320803.]]\n",
      "[[ 320803. -640800.  320000.]\n",
      " [-640800. 1281603. -640800.]\n",
      " [ 320000. -640800.  320803.]]\n",
      "cost_error [[0. 0. 0.]\n",
      " [0. 0. 0.]\n",
      " [0. 0. 0.]]\n"
     ]
    }
   ],
   "source": [
    "print(opt_class.A_projection.shape)\n",
    "print(opt_class_.A_projection.shape) \n",
    "\n",
    "# print( \"A_projection\", opt_class.A_projection)\n",
    "# print(\"A_projection\", opt_class_.A_projection) \n",
    "print(f\"opt_class dof {opt_class.num_dof}\")\n",
    "print(f\"opt_class_ dof {opt_class_.num_dof}\")\n",
    "\n",
    "#\n",
    "cost= opt_class.A_projection.T@opt_class.A_projection + opt_class.rho_ineq*opt_class.A_control.T@opt_class.A_control\n",
    "cost_ = opt_class_.A_projection.T@opt_class_.A_projection + opt_class_.rho_ineq*opt_class_.A_control.T@opt_class_.A_control\n",
    "\n",
    "print(cost)\n",
    "print(cost_)\n",
    "cost_error = cost[0:opt_class_.num, 0:opt_class_.num] - cost_\n",
    "print(\"cost_error\", cost_error)"
   ]
  },
  {
   "cell_type": "code",
   "execution_count": 298,
   "id": "c905af77",
   "metadata": {},
   "outputs": [
    {
     "name": "stdout",
     "output_type": "stream",
     "text": [
      "opt_class dof 2\n",
      "opt_class_ dof 1\n",
      "opt_class A_eq [[1. 0. 0. 0. 0. 0.]\n",
      " [0. 0. 0. 1. 0. 0.]]\n",
      "opt_class_ A_eq_ [[1. 0. 0.]]\n"
     ]
    }
   ],
   "source": [
    "print(f\"opt_class dof {opt_class.num_dof}\")\n",
    "print(f\"opt_class_ dof {opt_class_.num_dof}\")\n",
    "\n",
    "A_eq = opt_class.A_eq\n",
    "A_eq_ = opt_class_.A_eq\n",
    "print(f\"opt_class A_eq {A_eq}\")\n",
    "print(f\"opt_class_ A_eq_ {A_eq_}\")\n",
    "\n"
   ]
  },
  {
   "cell_type": "code",
   "execution_count": 299,
   "id": "7d71a676",
   "metadata": {},
   "outputs": [
    {
     "name": "stdout",
     "output_type": "stream",
     "text": [
      "(8, 8)\n",
      "(4, 4)\n",
      "cost_mat:\n",
      " [[ 320803. -640800.  320000.       0.       0.       0.       1.       0.]\n",
      " [-640800. 1281603. -640800.       0.       0.       0.       0.       0.]\n",
      " [ 320000. -640800.  320803.       0.       0.       0.       0.       0.]\n",
      " [      0.       0.       0.  320803. -640800.  320000.       0.       1.]\n",
      " [      0.       0.       0. -640800. 1281603. -640800.       0.       0.]\n",
      " [      0.       0.       0.  320000. -640800.  320803.       0.       0.]\n",
      " [      1.       0.       0.       0.       0.       0.       0.       0.]\n",
      " [      0.       0.       0.       1.       0.       0.       0.       0.]]\n",
      "\n",
      "cost_mat_:\n",
      " [[ 320803. -640800.  320000.       1.]\n",
      " [-640800. 1281603. -640800.       0.]\n",
      " [ 320000. -640800.  320803.       0.]\n",
      " [      1.       0.       0.       0.]]\n"
     ]
    }
   ],
   "source": [
    "# KKT system matrix\n",
    "cost_mat = np.vstack((\n",
    "    np.hstack((cost, A_eq.T)),\n",
    "    np.hstack((A_eq, np.zeros((A_eq.shape[0], A_eq.shape[0]))))\n",
    "))\n",
    "\n",
    "cost_mat_ = np.vstack((\n",
    "    np.hstack((cost_, A_eq_.T)),\n",
    "    np.hstack((A_eq_, np.zeros((A_eq_.shape[0], A_eq_.shape[0]))))\n",
    "))\n",
    "\n",
    "\n",
    "print(cost_mat.shape)\n",
    "print(cost_mat_.shape)\n",
    "\n",
    "# print(f\"cost_mat{cost_mat}\")\n",
    "#print(f\"cost_mat{cost_mat[0:4*opt_class_.num_dof, 0:4*opt_class_.num_dof]}\")\n",
    "\n",
    "print(\"cost_mat:\\n\", cost_mat)\n",
    "print(\"\\ncost_mat_:\\n\", cost_mat_)\n"
   ]
  },
  {
   "cell_type": "code",
   "execution_count": 300,
   "id": "dfb20c3d",
   "metadata": {},
   "outputs": [
    {
     "name": "stdout",
     "output_type": "stream",
     "text": [
      "cost_mat_error [[     0.      0.      0.     -1.]\n",
      " [     0.      0.      0.      0.]\n",
      " [     0.      0.      0.      0.]\n",
      " [    -1.      0.      0. 320803.]]\n"
     ]
    }
   ],
   "source": [
    "\n",
    "cost_mat_error = cost_mat[0:4*opt_class_.num_dof, 0:4*opt_class_.num_dof] - cost_mat_\n",
    "print(\"cost_mat_error\", cost_mat_error)\n"
   ]
  },
  {
   "cell_type": "code",
   "execution_count": 301,
   "id": "09f27652",
   "metadata": {},
   "outputs": [],
   "source": [
    "xi_mean = jnp.zeros(opt_class.nvar)\n",
    "xi_cov = 10.0*jnp.identity(opt_class.nvar)\n",
    "xi_samples, key = opt_class.compute_xi_samples(opt_class.key, xi_mean, xi_cov)\n",
    "\n",
    "s_init = jnp.zeros((opt_class.num_batch, opt_class.num_total_constraints))\n",
    "lamda_init = jnp.zeros((opt_class.num_batch, opt_class.nvar))\n",
    "\n",
    "\n",
    "\n",
    "xi_mean_ = jnp.zeros(opt_class_.nvar)\n",
    "xi_cov_ = 10.0*jnp.identity(opt_class_.nvar)\n",
    "xi_samples_, key = opt_class_.compute_xi_samples(opt_class_.key, xi_mean_, xi_cov_)\n",
    "\n",
    "\n",
    "s_init_ = jnp.zeros((opt_class_.num_batch, opt_class_.num_total_constraints))\n",
    "lamda_init_ = jnp.zeros((opt_class_.num_batch, opt_class_.nvar))\n",
    "\n",
    "\n",
    "s_init_batch = jnp.zeros((opt_class_batch_dof.num_batch, opt_class_batch_dof.num_total_constraints))\n",
    "lamda_init_batch = jnp.zeros((opt_class_batch_dof.num_batch, opt_class_batch_dof.nvar))"
   ]
  },
  {
   "cell_type": "code",
   "execution_count": 302,
   "id": "2044101d",
   "metadata": {},
   "outputs": [],
   "source": [
    "xi_samples = np.tile(xi_samples_, (1, opt_class.num_dof))\n",
    "xi_samples_batch = xi_samples"
   ]
  },
  {
   "cell_type": "code",
   "execution_count": 303,
   "id": "7e2bc0c6",
   "metadata": {},
   "outputs": [
    {
     "name": "stdout",
     "output_type": "stream",
     "text": [
      "xi_samples_ [[ 0.24 -1.54  4.08]\n",
      " [ 1.64  0.95  0.98]\n",
      " [ 1.82 -2.55 -6.29]\n",
      " [ 2.02  0.69  0.01]\n",
      " [ 5.26  0.64 -0.07]]\n",
      "xi_samples [[ 0.24 -1.54  4.08  0.24 -1.54  4.08]\n",
      " [ 1.64  0.95  0.98  1.64  0.95  0.98]\n",
      " [ 1.82 -2.55 -6.29  1.82 -2.55 -6.29]\n",
      " [ 2.02  0.69  0.01  2.02  0.69  0.01]\n",
      " [ 5.26  0.64 -0.07  5.26  0.64 -0.07]]\n"
     ]
    }
   ],
   "source": [
    "\n",
    "print(\"xi_samples_\", xi_samples_)\n",
    "print(\"xi_samples\", xi_samples)"
   ]
  },
  {
   "cell_type": "code",
   "execution_count": 304,
   "id": "f831feac",
   "metadata": {},
   "outputs": [],
   "source": [
    "init_pos = jnp.array([0.0]*opt_class.num_dof)\n",
    "init_vel = jnp.array([0.0]*opt_class.num_dof)\n",
    "thetadot_init = jnp.tile(init_vel, (opt_class.num_batch, 1))\n",
    "state_term = thetadot_init\n",
    "b_eq_term = opt_class.compute_boundary_vec_batch(state_term)\n",
    "xi_projected, _, _, _ = opt_class.compute_feasible_control(lamda_init, s_init, b_eq_term, xi_samples, init_pos)"
   ]
  },
  {
   "cell_type": "code",
   "execution_count": 305,
   "id": "e8187cca",
   "metadata": {},
   "outputs": [],
   "source": [
    "init_pos_ = jnp.array([0.0]*opt_class_.num_dof)\n",
    "init_vel_ = jnp.array([0.0]*opt_class_.num_dof)\n",
    "thetadot_init_ = jnp.tile(init_vel_, (opt_class_.num_batch, 1))\n",
    "state_term_ = thetadot_init_\n",
    "b_eq_term_ = opt_class_.compute_boundary_vec_batch(state_term_)\n",
    "xi_projected_, _, _, _ = opt_class_.compute_feasible_control(lamda_init_, s_init_, b_eq_term_, xi_samples_, init_pos_)"
   ]
  },
  {
   "cell_type": "code",
   "execution_count": 306,
   "id": "8be69310",
   "metadata": {},
   "outputs": [
    {
     "name": "stdout",
     "output_type": "stream",
     "text": [
      "[[0. 0. 0. 0. 0. 0.]\n",
      " [0. 0. 0. 0. 0. 0.]\n",
      " [0. 0. 0. 0. 0. 0.]\n",
      " [0. 0. 0. 0. 0. 0.]\n",
      " [0. 0. 0. 0. 0. 0.]]\n",
      "[[0. 0. 0.]\n",
      " [0. 0. 0.]\n",
      " [0. 0. 0.]\n",
      " [0. 0. 0.]\n",
      " [0. 0. 0.]]\n"
     ]
    }
   ],
   "source": [
    "print(lamda_init)\n",
    "print(lamda_init_)\n"
   ]
  },
  {
   "cell_type": "code",
   "execution_count": 307,
   "id": "95809057",
   "metadata": {},
   "outputs": [],
   "source": [
    "\n",
    "lamda_init_single_dof = lamda_init_\n",
    "s_init_single_dof = s_init_\n",
    "b_eq_term_single_dof = b_eq_term_\n",
    "xi_samples_single_dof = xi_samples_\n",
    "init_pos_single_dof = init_pos_\n",
    "\n",
    "# init_pos_batch = jnp.array([0.0]*opt_class_batch_dof.num_dof)\n",
    "# init_vel_batch = jnp.array([0.0]*opt_class_batch_dof.num_dof)\n",
    "\n",
    "# thetadot_init_batch = jnp.tile(init_vel_batch, (opt_class_batch_dof.num_batch, 1))\n",
    "# state_term_batch = thetadot_init_batch\n",
    "# b_eq_term_batch = opt_class_batch_dof.compute_boundary_vec_batch(state_term_batch)\n",
    "#xi_projected_batch, _, _, _ = opt_class_batch_dof.compute_feasible_control_single_dof(lamda_init_batch, s_init_batch, b_eq_term_batch, xi_samples_batch, init_pos_batch)\n",
    "xi_projected_batch, _, _, _ = opt_class_batch_dof.compute_feasible_control_single_dof(lamda_init_single_dof, s_init_single_dof, \n",
    "\t\t\t\t\t\t\t\t\t\t b_eq_term_single_dof, xi_samples_single_dof, \n",
    "\t\t\t\t\t\t\t\t\t\t init_pos_single_dof)"
   ]
  },
  {
   "cell_type": "code",
   "execution_count": 308,
   "id": "3fe2c3f5",
   "metadata": {},
   "outputs": [],
   "source": [
    "xi_projected_error = xi_projected_ - xi_projected_batch"
   ]
  },
  {
   "cell_type": "code",
   "execution_count": 309,
   "id": "ccd12851",
   "metadata": {},
   "outputs": [
    {
     "name": "stdout",
     "output_type": "stream",
     "text": [
      "(5, 6)\n"
     ]
    }
   ],
   "source": [
    "xi_samples_reshaped = xi_samples.reshape(opt_class_batch_dof.num_batch, opt_class_batch_dof.num_dof, opt_class_batch_dof.num)\n",
    "xi_samples_batched_over_dof = jnp.transpose(xi_samples_reshaped, (1, 0, 2)) # shape: (DoF, B, num)\n",
    "\n",
    "state_term_reshaped = state_term.reshape(opt_class_batch_dof.num_batch, opt_class_batch_dof.num_dof, 1)\n",
    "state_term_batched_over_dof = jnp.transpose(state_term_reshaped, (1, 0, 2)) #Shape: (DoF, B, 1)\n",
    "\n",
    "lamda_init_reshaped = lamda_init.reshape(opt_class_batch_dof.num_batch, opt_class_batch_dof.num_dof, opt_class_batch_dof.num)\n",
    "lamda_init_batched_over_dof = jnp.transpose(lamda_init_reshaped, (1, 0, 2)) # shape: (DoF, B, num)\n",
    "\n",
    "s_init_reshaped = s_init.reshape(opt_class_batch_dof.num_batch, opt_class_batch_dof.num_dof, opt_class_batch_dof.num_total_constraints_per_dof )\n",
    "s_init_batched_over_dof = jnp.transpose(s_init_reshaped, (1, 0, 2)) # shape: (DoF, B, num_total_constraints_per_dof)\n",
    "\n",
    "\n",
    "\n",
    "# #PAss all arguments as positional arguments; not keyword arguments\n",
    "xi_filtered, primal_residuals, fixed_point_residuals = opt_class_batch_dof.compute_projection_batched_over_dof(\n",
    "                                                            xi_samples_batched_over_dof, \n",
    "                                                            state_term_batched_over_dof, \n",
    "                                                            lamda_init_batched_over_dof, \n",
    "                                                            s_init_batched_over_dof, \n",
    "                                                            init_pos)\n",
    "\n",
    "#xi_projected_batch_multidof = xi_filtered.reshape(opt_class_batch_dof.num_batch, opt_class_batch_dof.num* opt_class_batch_dof.num_dof)\n",
    "xi_projected_batch_multidof = xi_filtered.transpose(1, 0, 2).reshape(opt_class_batch_dof.num_batch, -1)\n",
    "print(xi_projected_batch_multidof.shape)"
   ]
  },
  {
   "cell_type": "code",
   "execution_count": 310,
   "id": "d7e28210",
   "metadata": {},
   "outputs": [
    {
     "name": "stdout",
     "output_type": "stream",
     "text": [
      "xi_samples [[ 0.24 -1.54  4.08  0.24 -1.54  4.08]\n",
      " [ 1.64  0.95  0.98  1.64  0.95  0.98]\n",
      " [ 1.82 -2.55 -6.29  1.82 -2.55 -6.29]\n",
      " [ 2.02  0.69  0.01  2.02  0.69  0.01]\n",
      " [ 5.26  0.64 -0.07  5.26  0.64 -0.07]]\n",
      "xi_samples_reshaped [[[ 0.24 -1.54  4.08]\n",
      "  [ 0.24 -1.54  4.08]]\n",
      "\n",
      " [[ 1.64  0.95  0.98]\n",
      "  [ 1.64  0.95  0.98]]\n",
      "\n",
      " [[ 1.82 -2.55 -6.29]\n",
      "  [ 1.82 -2.55 -6.29]]\n",
      "\n",
      " [[ 2.02  0.69  0.01]\n",
      "  [ 2.02  0.69  0.01]]\n",
      "\n",
      " [[ 5.26  0.64 -0.07]\n",
      "  [ 5.26  0.64 -0.07]]]\n"
     ]
    }
   ],
   "source": [
    "print(\"xi_samples\", xi_samples)\n",
    "print(\"xi_samples_reshaped\", xi_samples_reshaped)\n"
   ]
  },
  {
   "cell_type": "code",
   "execution_count": 311,
   "id": "517fb915",
   "metadata": {},
   "outputs": [
    {
     "name": "stdout",
     "output_type": "stream",
     "text": [
      "state_term [[0. 0.]\n",
      " [0. 0.]\n",
      " [0. 0.]\n",
      " [0. 0.]\n",
      " [0. 0.]]\n",
      "state_term_reshaped [[[0.]\n",
      "  [0.]]\n",
      "\n",
      " [[0.]\n",
      "  [0.]]\n",
      "\n",
      " [[0.]\n",
      "  [0.]]\n",
      "\n",
      " [[0.]\n",
      "  [0.]]\n",
      "\n",
      " [[0.]\n",
      "  [0.]]]\n"
     ]
    }
   ],
   "source": [
    "\n",
    "print(\"state_term\", state_term)\n",
    "print(\"state_term_reshaped\", state_term_reshaped)"
   ]
  },
  {
   "cell_type": "code",
   "execution_count": 312,
   "id": "7c9d3e79",
   "metadata": {},
   "outputs": [
    {
     "name": "stdout",
     "output_type": "stream",
     "text": [
      "lamda_init [[0. 0. 0. 0. 0. 0.]\n",
      " [0. 0. 0. 0. 0. 0.]\n",
      " [0. 0. 0. 0. 0. 0.]\n",
      " [0. 0. 0. 0. 0. 0.]\n",
      " [0. 0. 0. 0. 0. 0.]]\n",
      "lamda_init_reshaped [[[0. 0. 0.]\n",
      "  [0. 0. 0.]]\n",
      "\n",
      " [[0. 0. 0.]\n",
      "  [0. 0. 0.]]\n",
      "\n",
      " [[0. 0. 0.]\n",
      "  [0. 0. 0.]]\n",
      "\n",
      " [[0. 0. 0.]\n",
      "  [0. 0. 0.]]\n",
      "\n",
      " [[0. 0. 0.]\n",
      "  [0. 0. 0.]]]\n"
     ]
    }
   ],
   "source": [
    "print(\"lamda_init\", lamda_init)\n",
    "print(\"lamda_init_reshaped\", lamda_init_reshaped)"
   ]
  },
  {
   "cell_type": "code",
   "execution_count": 313,
   "id": "d165b718",
   "metadata": {},
   "outputs": [
    {
     "name": "stdout",
     "output_type": "stream",
     "text": [
      "('xi_projected', (5, 6))\n",
      "('xi_projected_', (5, 3))\n",
      "xi_projected:\n",
      " [[-0.    0.    0.01 -0.    0.    0.01]\n",
      " [ 0.    0.    0.    0.    0.    0.  ]\n",
      " [-0.   -0.01 -0.02 -0.   -0.01 -0.02]\n",
      " [-0.    0.    0.   -0.    0.    0.  ]\n",
      " [-0.    0.    0.   -0.    0.    0.  ]]\n",
      "\n",
      "xi_projected_:\n",
      " [[-0.    0.    0.01]\n",
      " [ 0.    0.    0.  ]\n",
      " [-0.   -0.01 -0.02]\n",
      " [-0.    0.    0.  ]\n",
      " [-0.    0.    0.  ]]\n",
      "\n",
      "xi_projected_batch:\n",
      " [[-0.    0.    0.01]\n",
      " [ 0.    0.    0.  ]\n",
      " [-0.   -0.01 -0.02]\n",
      " [-0.    0.    0.  ]\n",
      " [-0.    0.    0.  ]]\n"
     ]
    }
   ],
   "source": [
    "print((\"xi_projected\", xi_projected.shape))\n",
    "print((\"xi_projected_\", xi_projected_.shape))\n",
    "\n",
    "print(\"xi_projected:\\n\", xi_projected)\n",
    "print(\"\\nxi_projected_:\\n\", xi_projected_)\n",
    "print(\"\\nxi_projected_batch:\\n\", xi_projected_batch)\n"
   ]
  },
  {
   "cell_type": "code",
   "execution_count": null,
   "id": "7610ed3e",
   "metadata": {},
   "outputs": [
    {
     "name": "stdout",
     "output_type": "stream",
     "text": [
      "\n",
      "xi_filtered:\n",
      " [[[ 0.    0.02  0.04]\n",
      "  [ 0.    0.01  0.02]\n",
      "  [-0.   -0.05 -0.09]\n",
      "  [ 0.    0.    0.  ]\n",
      "  [ 0.    0.    0.  ]]\n",
      "\n",
      " [[ 0.    0.02  0.04]\n",
      "  [ 0.    0.01  0.02]\n",
      "  [-0.   -0.05 -0.09]\n",
      "  [ 0.    0.    0.  ]\n",
      "  [ 0.    0.    0.  ]]]\n",
      "\n",
      "xi_filtered:\n",
      " [[[ 0.    0.02  0.04]\n",
      "  [ 0.    0.01  0.02]\n",
      "  [-0.   -0.05 -0.09]\n",
      "  [ 0.    0.    0.  ]\n",
      "  [ 0.    0.    0.  ]]\n",
      "\n",
      " [[ 0.    0.02  0.04]\n",
      "  [ 0.    0.01  0.02]\n",
      "  [-0.   -0.05 -0.09]\n",
      "  [ 0.    0.    0.  ]\n",
      "  [ 0.    0.    0.  ]]]\n",
      "\n",
      "xi_projected:\n",
      " [[-0.    0.    0.01 -0.    0.    0.01]\n",
      " [ 0.    0.    0.    0.    0.    0.  ]\n",
      " [-0.   -0.01 -0.02 -0.   -0.01 -0.02]\n",
      " [-0.    0.    0.   -0.    0.    0.  ]\n",
      " [-0.    0.    0.   -0.    0.    0.  ]]\n"
     ]
    }
   ],
   "source": [
    "# print(\"\\nxi_filtered:\\n\", xi_filtered)\n",
    "print(\"\\nxi_filtered:\\n\", xi_filtered)\n",
    "print(\"\\nxi_projected_batch_multidof:\\n\", xi_projected_batch_multidof)\n"
   ]
  },
  {
   "cell_type": "code",
   "execution_count": null,
   "id": "f103a0e9",
   "metadata": {},
   "outputs": [],
   "source": [
    "print(\"\\nxi_projected_error:\\n\", xi_projected_error)\n",
    "\n"
   ]
  },
  {
   "cell_type": "code",
   "execution_count": null,
   "id": "797a7bd3",
   "metadata": {},
   "outputs": [],
   "source": [
    "#init_pos = jnp.array([0.0, 0.0, 0.0, 0.0, 0.0, 0.0])\n",
    "init_pos = jnp.array([1.5, -1.8, 1.75, -1.25, -1.6, 0])\n",
    "# init_pos = jnp.array([1.0, 1.0, 1.0, 1.0, 1.0, 1.0])\n",
    "init_vel = jnp.array([0.0, 0.0, 0.0, 0.0, 0.0, 0.0])\n",
    "init_acc = jnp.array([0.0, 0.0, 0.0, 0.0, 0.0, 0.0])\n",
    "target_pos = jnp.array([0.0, 0.0, 0.0])\n",
    "target_rot = jnp.array([0.0, 0.0, 0.0, 1.0])\n",
    "s_init = jnp.zeros((opt_class.num_batch, opt_class.num_total_constraints))\n",
    "lamda_init = jnp.zeros((opt_class.num_batch, opt_class.nvar))\n",
    "\n",
    "cost, best_cost_g, best_cost_r, best_cost_c, best_vels, best_traj, \\\n",
    "xi_mean, xi_cov, thd_all, th_all, avg_primal_res, avg_fixed_res, \\\n",
    "primal_res, fixed_res, _ = opt_class.compute_cem(\n",
    "    xi_mean,\n",
    "    xi_cov,\n",
    "    init_pos,\n",
    "    init_vel,\n",
    "    init_acc,\n",
    "    target_pos,\n",
    "    target_rot,\n",
    "    lamda_init,\n",
    "    s_init,\n",
    "    xi_samples\n",
    ")\n",
    "\n",
    "print(f\"best_vels: {best_vels.shape}\")\n",
    "print(f\"Total time: {round(time.time()-start_time, 2)}s\")\n",
    "print(f\"Compute CEM time: {round(time.time()-start_time_comp_cem, 2)}s\")\n",
    "    "
   ]
  },
  {
   "cell_type": "code",
   "execution_count": null,
   "id": "7c7e4445",
   "metadata": {},
   "outputs": [],
   "source": [
    "print(opt_class.Pint.shape)\n",
    "print(opt_class.P.shape)\n",
    "\n",
    "# print(opt_class.Pint)\n",
    "# print(opt_class.P)\n",
    "# print(opt_class.Pdot)\n",
    "\n",
    "# initi = np.vstack((opt_class.Pint[0], opt_class.P[0], opt_class.Pdot[0], opt_class.P[-1], opt_class.Pdot[-1]  ))\n",
    "\n",
    "# print(initi.shape)\n",
    "# print(initi)"
   ]
  },
  {
   "cell_type": "code",
   "execution_count": null,
   "id": "61e0d71e",
   "metadata": {},
   "outputs": [],
   "source": [
    "print(best_vels.shape)\n",
    "import matplotlib.pyplot as plt\n",
    "%matplotlib inline\n",
    "plt.figure()\n",
    "plt.plot(best_vels)\n",
    "plt.show()\n",
    "\n"
   ]
  },
  {
   "cell_type": "code",
   "execution_count": null,
   "id": "33c79df3",
   "metadata": {},
   "outputs": [],
   "source": [
    "print(thd_all.shape)\n",
    "%matplotlib inline\n",
    "plt.figure()\n",
    "plt.plot(thd_all[-1].T)\n",
    "plt.show()\n"
   ]
  },
  {
   "cell_type": "code",
   "execution_count": null,
   "id": "9e03b5dd",
   "metadata": {},
   "outputs": [],
   "source": [
    "vel_start = np.zeros((num_batch, 1))\n",
    "vel_end = np.zeros((num_batch, 1))\n",
    "\n",
    "for i in range(num_batch):\n",
    "    vel_start[i] = thd_all[-1][i][0]\n",
    "    vel_end[i] = thd_all[-1][i][-1]\n",
    "\n",
    "print(vel_start.shape)\n",
    "print(vel_end.shape)\n",
    "\n",
    "%matplotlib inline\n",
    "\n",
    "plt.figure()\n",
    "plt.plot(vel_start)\n",
    "plt.show()\n",
    "\n",
    "plt.figure()\n",
    "plt.plot(vel_end)\n",
    "plt.show()\n",
    "\n",
    "\n"
   ]
  },
  {
   "cell_type": "code",
   "execution_count": null,
   "id": "e564253b",
   "metadata": {},
   "outputs": [],
   "source": [
    "print(th_all.shape)\n",
    "%matplotlib inline\n",
    "plt.figure()\n",
    "plt.plot(th_all[-1].T)\n",
    "plt.show()"
   ]
  },
  {
   "cell_type": "code",
   "execution_count": null,
   "id": "0386e9fc",
   "metadata": {},
   "outputs": [],
   "source": [
    "theta_start = np.zeros((num_batch, 1))\n",
    "theta_end = np.zeros((num_batch, 1))\n",
    "\n",
    "for i in range(num_batch):\n",
    "    theta_start[i] = th_all[-1][i][0]\n",
    "    theta_end[i] = th_all[-1][i][-1]\n",
    "\n",
    "print(theta_start.shape)\n",
    "print(theta_end.shape)\n",
    "\n",
    "%matplotlib inline\n",
    "plt.figure()\n",
    "plt.plot(theta_end)\n",
    "plt.show()\n",
    "\n",
    "plt.figure()\n",
    "plt.plot(theta_start)\n",
    "plt.show()"
   ]
  },
  {
   "cell_type": "code",
   "execution_count": null,
   "id": "ea4a820e",
   "metadata": {},
   "outputs": [],
   "source": [
    "print(primal_res.shape)\n",
    "print(fixed_res.shape)\n",
    "\n",
    "print(avg_primal_res.shape)\n",
    "print(avg_fixed_res.shape)"
   ]
  },
  {
   "cell_type": "code",
   "execution_count": null,
   "id": "7fc48a15",
   "metadata": {},
   "outputs": [],
   "source": [
    "%matplotlib inline\n",
    "plt.figure()\n",
    "plt.plot(primal_res[-1])\n",
    "plt.show()"
   ]
  },
  {
   "cell_type": "code",
   "execution_count": null,
   "id": "46cbce73",
   "metadata": {},
   "outputs": [],
   "source": [
    "%matplotlib inline\n",
    "plt.figure()\n",
    "plt.plot(fixed_res[-1])\n",
    "plt.show()"
   ]
  }
 ],
 "metadata": {
  "kernelspec": {
   "display_name": "custom_env",
   "language": "python",
   "name": "python3"
  },
  "language_info": {
   "codemirror_mode": {
    "name": "ipython",
    "version": 3
   },
   "file_extension": ".py",
   "mimetype": "text/x-python",
   "name": "python",
   "nbconvert_exporter": "python",
   "pygments_lexer": "ipython3",
   "version": "3.12.3"
  }
 },
 "nbformat": 4,
 "nbformat_minor": 5
}
